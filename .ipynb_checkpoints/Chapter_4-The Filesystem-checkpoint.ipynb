{
 "cells": [
  {
   "cell_type": "markdown",
   "metadata": {},
   "source": [
    "# Chapter 4: The Filesystem"
   ]
  },
  {
   "cell_type": "markdown",
   "metadata": {},
   "source": [
    "[**4.1 Filesystem**](#4.1-Filesystem)   \n",
    "[**4.2 The Hierarchical Filesystem**](#4.2-The-Hierarchical-Filesystem)   \n",
    "[**4.3 Ordinary Files and Directory Files**](#4.3-Ordinary-Files-and-Directory-Files)   \n",
    "[**4.4 Filenames**](#4.4-Filenames)   \n",
    "[**4.5 Pathnames**](#4.5-Pathnames)   \n",
    "[**4.6 Standard Directories and Files**](#4.6-Standard-Directories-and-Files)  \n",
    "[**4.7 Access Permissions**](#4.7-Access-Permissions)  \n",
    "[**4.8 Links**](#4.8-Links)  \n",
    "[**4.8.1 Types of Links**](#4.8.1-Types-of-Links)  \n",
    "[**4.8.1.1 Hard Links**](#4.8.1.1-Hard-Links)  \n",
    "[**4.8.1.2 Symbolic Links**](#4.8.1.2-Symbolic-Links)  "
   ]
  },
  {
   "cell_type": "markdown",
   "metadata": {},
   "source": [
    "#### 4.1 Filesystem\n",
    "A filesystem is a set of data structures that resides on part of a disk and holds directories of files. Filesystem stores user and system data."
   ]
  },
  {
   "cell_type": "markdown",
   "metadata": {},
   "source": [
    "#### 4.2 The Hierarchical Filesystem\n",
    "**Family Tree** A hierarchical structure has the shape of a pyramid. It is similar to the family lineage. This type of hierarchical structure is known as `family tree`. Similar to family tree the Linux filesystem is known as a `tree`. It consists of a set of files connected with each others. In Linux system, it starts with one directory and user can add multiple subdirectories to any desired level."
   ]
  },
  {
   "cell_type": "markdown",
   "metadata": {},
   "source": [
    "#### 4.3 Ordinary Files and Directory Files\n",
    "Ordinary Files also known as files, appear at the ends of paths that cannot support other paths. Directory file alson known as directories or folders, are the points that other paths can branch off from. Directory connected by apth are called parents and children. A `path name` is a series of names that trace a path along branches from one file to another."
   ]
  },
  {
   "cell_type": "markdown",
   "metadata": {},
   "source": [
    "Figure 4.1 Ordinary files and directories\n",
    "\n",
    "              Directory\n",
    "           /      |      \\\n",
    "          /       |       \\\n",
    "         /        |        \\\n",
    "    Directory  Directory  Directory\n",
    "        |                    |\n",
    "        |                    |\n",
    "        |                    |\n",
    "    Ordinary File         Directory\n",
    "                           /       \\\n",
    "                          /         \\\n",
    "                         /           \\\n",
    "                     Directory    Ordinary File\n",
    "                        |\n",
    "                        |\n",
    "                        |\n",
    "                     Ordinary File"
   ]
  },
  {
   "cell_type": "markdown",
   "metadata": {},
   "source": [
    "#### 4.4 Filenames\n",
    "All the file has a `filename`. The maximum length of file can be upto 255 characters long. Filename can be made from any character. i.e.\n",
    "* Uppercase letters (A-Z)\n",
    "* Lowercase letters (a-z)\n",
    "* Number (0-9)\n",
    "* Underscore (_)\n",
    "* Period (.)\n",
    "* Comma (,)\n",
    "\n",
    "Two files cannot have same name in same directory. But files in different parents can have same name. Filesystems are mostly case sensitive.\n",
    "\n",
    "`Filename extensions` is the part of the filename that follows an embedded period. The filename extensions help to describe the contents of the file. For example: invoice.pdf, packages.gz, image_1.jpg, employees.py\n",
    "\n",
    "`Hidden filename` are the filename that begins with a period. To display a hidden files we have to `ls -a`.\n",
    "\n",
    "To find the current directory, we can use `pwd` command. `Home directory` is the directory when we first log into the system. The Linux home directories are typically located in **/home** whereas in Mac OS it is located in **/Users**."
   ]
  },
  {
   "cell_type": "markdown",
   "metadata": {},
   "source": [
    "#### 4.5 Pathnames\n",
    "`Pathname` is a trail from a directory through part of the directory hierarchy to an ordinary file or a directory. \n",
    "\n",
    "Root directory: The root directory is represented by a slash (/). \n",
    "\n",
    "**Absolute Pathname**: An absolute pathname starts with a slash (/), which represents the root directory. It is called absolute pathname because it locates a file absolutely by tracing a path from the root directory to the file. `/home/kcmahesh` is an example of absolute pathname.  \n",
    "\n",
    "**Tilde (`~`)**: The shell expands the characters `~/` (i.e. a tilde followed by a slash) at the start of a pathname into the pathname of the home directory. It is another form of absolute pathname. Tilde also refer the user's home directory.\n",
    "\n",
    "**Relative Pathname**: A relative pathname traces a path from the working directory to a file. The pathname is `relative` to the working directory. The pathname that does not begin with the root directory or tilde is a relative pathname."
   ]
  },
  {
   "cell_type": "markdown",
   "metadata": {},
   "source": [
    "`mkdir` utility is used to create a directory. `-p` (parents) option to used to create parent directory if it doesn't exist. The mkdir utility will puts two entries in the each directory when it creates. It is a single period (.) and double period (..).  \n",
    "1. **.** is the synonymous with the pathname of the working directory and can be used in its place.  \n",
    "2. **..** is the synonymous with the pathname of the parent of the working directory.\n",
    "\n",
    "These entries are hidden because their filenames begin with a period. To display hidden directory, we need to use `ls -a`.\n",
    "\n",
    "`cd` (change directory) is used to change the directory.  \n",
    "\n",
    "`rmdir` (remove directory) utility is used to delete a directory. `-r` option is used to recursively deletes files, including directories, within a directory and also the directory itself. \n",
    "\n",
    "`touch` is used to create an empty file."
   ]
  },
  {
   "cell_type": "markdown",
   "metadata": {},
   "source": [
    "#### 4.6 Standard Directories and Files\n",
    "The first standard for the Linux filesystem, the FSSTND (Linux Filesystem Standard), was released in 1994. In 1995, UNIX-like systems: FHS(Linux Filesystem Hierarchy Standard) was started. The figure below shows the locations of some important directories and files specified by FHS."
   ]
  },
  {
   "cell_type": "markdown",
   "metadata": {},
   "source": [
    "Figure 4-2"
   ]
  },
  {
   "cell_type": "markdown",
   "metadata": {},
   "source": [
    "**/ (Root)**: The root directory, present is filesystem structures is the ancestor of all files in the filesystem. It does not have a name and is represented by a slash (/).  \n",
    "**/bin (Essential command binaries)**: It contains the files that are needed to bring the system up and run it when if first comes up in single-user/recovery mode.  \n",
    "**/boot (Static files of the boot loader)**: It contains all the files needed to boot the system.  \n",
    "**/dev (Device files)**: It contains all the files that represent peripheral devices, such as disk drives, terminals, and printers.  \n",
    "**/etc (Machine-local system configuration files)**: It contains administrative, configuration, and other system files.  \n",
    "**/etc/opt**: Configuration files for add-on software packages kept in /opt.  \n",
    "**/etc/X11**: Machine-local configuration files for the X Window System.  \n",
    "**/home (User home directories)**: It holds each user's home directory. For example, kcmahesh home directory is `/home/kcmahesh`. In Mac OS X, the user home directories is under `/Users`.  \n",
    "**/lib**: Shared libraries.    \n",
    "**/lib/modules**: Loadable kernel modules.  \n",
    "**/mnt**: Mount point for temporarily mounting filesystems.  \n",
    "**/opt**: Add-on or optional software packages.  \n",
    "**/proc**: Kernel and process information virtual filesystem.  \n",
    "**/root**: Home directory for the root account.  \n",
    "**/run (Runtime data)**: A `tmpfs` filesystem (mounted, but stored in RAM) that holds startup files .  \n",
    "**/sbin (Essential system binaries)**: Utilities used for system administration are stored in `/sbin` and `/usr/sbin`. The `/sbin` directory includes utilities needed during the booting process. The `/usr/sbin` holds utilities used after the system is up and running.  \n",
    "**/sys**: Device pseudofilesystem.  \n",
    "**/tmp**: Temporary files.  \n",
    "**/usr (Second major hierarchy)**: Previously it contains subdirectories that contains information used by the system. Files in `/usr` subdirectories do not change and can be shared by several systems.  \n",
    "**/usr/bin (Most user commands)**: It contains the standard Linux utility programs such as binaries that are not needed in single-user/recovery mode.  \n",
    "**/usr/games**: Games and educaitonal programs.  \n",
    "**/usr/include**: Header files included by C programs.  \n",
    "**/usr/lib**: Libraries.  \n",
    "**/usr/local (Local hierarchy)**: It holds locally important files and directories that are added to the system. Subdirectories can include `bin, games, include, lib, sbin, share and src`.  \n",
    "**/usr/sbin**: Nonvital system administration binaries.  \n",
    "**/usr/share (Architecture-independent data)**: Subdirectories can include `dict, doc, games, info, locale, man, misc, terminfo and zoneinfo`.   \n",
    "**/usr/share/doc**: Documentation.  \n",
    "**/usr/share/info**: GNU info system's primary directory.  \n",
    "**/usr/share/man**: Online manuals.  \n",
    "**/usr/src**: Source code.  \n",
    "**/var (Variable data)**: Stores files with contents that vary as the system runs and kept in subdirectories under `/var`. Some examples are temporary files, system log files, spooled files user mailbox files etc. Subdirectories includes `cache, lib, lock, log, mail, opt, run, spool, tmp, and yp`.  \n",
    "**/var/log (Log files)**: It contains `lastlog` ( a record of the last login by each user), `messages` (system messages from syslogd), `wtmp` ( a record of all logins/logouts).  \n",
    "**/var/spool (Spooled application data)**: It contains `anacron, at, cron, lpd, mail, mqueue, samba` and other directories. The `/var/mail` is linked to `/var/spool/mail`."
   ]
  },
  {
   "cell_type": "markdown",
   "metadata": {},
   "source": [
    "#### 4.7 Access Permissions\n",
    "There are typically two type for accessing file system.\n",
    "1. Traditional Access Permissions\n",
    "2. Access Control Lists (ACLs)\n",
    "\n",
    "We'll discuss about traditional access permissions. There are three types of users for accessing file.\n",
    "* Owner: The owner of the file\n",
    "* Group: A member of a group associated with the file\n",
    "* Other: Everyone\n",
    "\n",
    "User can access an ordinary file using in three ways:\n",
    "* read\n",
    "* write\n",
    "* execute"
   ]
  },
  {
   "cell_type": "markdown",
   "metadata": {},
   "source": [
    "To display the permissions of the file we can use `ls -l`."
   ]
  },
  {
   "cell_type": "code",
   "execution_count": 3,
   "metadata": {},
   "outputs": [
    {
     "name": "stdout",
     "output_type": "stream",
     "text": [
      "total 824\r\n",
      "-rw-r--r--  1 kcmahesh  staff    7932 Aug 12 01:13 Chapter_1-Introduction to Linux.ipynb\r\n",
      "-rw-r--r--  1 kcmahesh  staff  171552 Aug 14 02:38 Chapter_2-Linux Operating System.ipynb\r\n",
      "-rw-r--r--  1 kcmahesh  staff   25279 Sep  2 05:41 Chapter_3-The Utilities.ipynb\r\n",
      "-rw-r--r--  1 kcmahesh  staff   12630 Sep  9 06:54 Chapter_4-The Filesystem.ipynb\r\n",
      "-rw-r--r--@ 1 kcmahesh  staff  129465 Aug 12 00:25 Linux_OS.png\r\n",
      "-rw-r--r--@ 1 kcmahesh  staff    1311 Aug  5 05:33 mac_vi_editor.txt\r\n"
     ]
    }
   ],
   "source": [
    "!ls -l"
   ]
  },
  {
   "cell_type": "markdown",
   "metadata": {},
   "source": [
    "The above `ls -l` command display following information starting from left:\n",
    "* The type of file (first character)\n",
    "* The files's access permissions (the next nine characters)\n",
    "* The ACL flag (if file has an ACL)\n",
    "* The number of links to the file\n",
    "* The name of the owner of the file\n",
    "* The name of the group of the file\n",
    "* The size of the file in characters (bytes)\n",
    "* The timestamp when file was created or last modified\n",
    "* The name of the file"
   ]
  },
  {
   "cell_type": "markdown",
   "metadata": {},
   "source": [
    "The type of file i.e. `-` means an ordinary file and `d` means directory. The next three character specify the permission for the owner of the file.\n",
    "* r: read permission\n",
    "* w: write permission\n",
    "* x: execute permission\n",
    "`-` indicates that the owner does not have permission.  \n",
    "The above will be applied to `group` and `other`."
   ]
  },
  {
   "cell_type": "markdown",
   "metadata": {},
   "source": [
    "**chmod**: `chmod` (change mode) utility is used to change the access permission of the file. We can specify symbolic (relative) or numeric (absolute) arguments to chmod."
   ]
  },
  {
   "cell_type": "markdown",
   "metadata": {},
   "source": [
    "**Symbolic arguments to chmod**  \n",
    "It uses `rwx` symbol to change the permission of the file. \n",
    "\n",
    "* u: user\n",
    "* g: group\n",
    "* o: other\n",
    "* a: all\n",
    "* +: add\n",
    "* \\- remove\n",
    "\n",
    "For example:"
   ]
  },
  {
   "cell_type": "code",
   "execution_count": 7,
   "metadata": {},
   "outputs": [
    {
     "name": "stdout",
     "output_type": "stream",
     "text": [
      "total 0\r\n",
      "drwx------  3 kcmahesh  wheel  96 Sep  5 03:09 \u001b[1m\u001b[34mcom.apple.launchd.kNBtpms4I4\u001b[m\u001b[m\r\n",
      "-rw-r--r--  1 kcmahesh  wheel   0 Sep  9 07:09 file123.txt\r\n",
      "drwxr-xr-x  2 root      wheel  64 Sep  9 05:48 \u001b[1m\u001b[34mpowerlog\u001b[m\u001b[m\r\n"
     ]
    }
   ],
   "source": [
    "!touch /tmp/file123.txt;ls -l /tmp/"
   ]
  },
  {
   "cell_type": "code",
   "execution_count": 9,
   "metadata": {},
   "outputs": [
    {
     "name": "stdout",
     "output_type": "stream",
     "text": [
      "total 0\r\n",
      "drwx------  3 kcmahesh  wheel  96 Sep  5 03:09 \u001b[1m\u001b[34mcom.apple.launchd.kNBtpms4I4\u001b[m\u001b[m\r\n",
      "-rw-rwxr--  1 kcmahesh  wheel   0 Sep  9 07:09 \u001b[1m\u001b[32mfile123.txt\u001b[m\u001b[m\r\n",
      "drwxr-xr-x  2 root      wheel  64 Sep  9 05:48 \u001b[1m\u001b[34mpowerlog\u001b[m\u001b[m\r\n"
     ]
    }
   ],
   "source": [
    "!chmod g+wx /tmp/file123.txt;ls -l /tmp/"
   ]
  },
  {
   "cell_type": "code",
   "execution_count": 10,
   "metadata": {},
   "outputs": [
    {
     "name": "stdout",
     "output_type": "stream",
     "text": [
      "total 0\r\n",
      "drwx------  3 kcmahesh  wheel  96 Sep  5 03:09 \u001b[1m\u001b[34mcom.apple.launchd.kNBtpms4I4\u001b[m\u001b[m\r\n",
      "-rwxrwxrwx  1 kcmahesh  wheel   0 Sep  9 07:09 \u001b[1m\u001b[32mfile123.txt\u001b[m\u001b[m\r\n",
      "drwxr-xr-x  2 root      wheel  64 Sep  9 05:48 \u001b[1m\u001b[34mpowerlog\u001b[m\u001b[m\r\n"
     ]
    }
   ],
   "source": [
    "!chmod a+rwx /tmp/file123.txt;ls -l /tmp/"
   ]
  },
  {
   "cell_type": "code",
   "execution_count": 11,
   "metadata": {},
   "outputs": [
    {
     "name": "stdout",
     "output_type": "stream",
     "text": [
      "total 0\r\n",
      "drwx------  3 kcmahesh  wheel  96 Sep  5 03:09 \u001b[1m\u001b[34mcom.apple.launchd.kNBtpms4I4\u001b[m\u001b[m\r\n",
      "-rwx------  1 kcmahesh  wheel   0 Sep  9 07:09 \u001b[1m\u001b[32mfile123.txt\u001b[m\u001b[m\r\n",
      "drwxr-xr-x  2 root      wheel  64 Sep  9 05:48 \u001b[1m\u001b[34mpowerlog\u001b[m\u001b[m\r\n"
     ]
    }
   ],
   "source": [
    "!chmod go-rwx /tmp/file123.txt;ls -l /tmp/"
   ]
  },
  {
   "cell_type": "markdown",
   "metadata": {},
   "source": [
    "**Numeric arguments to chmod**  \n",
    "It uses three octal digits to change the permission of the file. A fourth, leading digit controls the setuid and setgid permission. The first, second and third digit specifies the permissions for the owner, group and other users respectively. \n",
    "* 1: specifies execute permission\n",
    "* 2: specifies write permission\n",
    "* 3: specifies read permission"
   ]
  },
  {
   "cell_type": "markdown",
   "metadata": {},
   "source": [
    "Let's discuss about the binary operation for file permission."
   ]
  },
  {
   "cell_type": "markdown",
   "metadata": {},
   "source": [
    "!chmod 755 /tmp/file123.txt;ls -l /tmp/"
   ]
  },
  {
   "cell_type": "code",
   "execution_count": 13,
   "metadata": {},
   "outputs": [
    {
     "name": "stdout",
     "output_type": "stream",
     "text": [
      "total 0\r\n",
      "drwx------  3 kcmahesh  wheel  96 Sep  5 03:09 \u001b[1m\u001b[34mcom.apple.launchd.kNBtpms4I4\u001b[m\u001b[m\r\n",
      "-rwx------  1 kcmahesh  wheel   0 Sep  9 07:09 \u001b[1m\u001b[32mfile123.txt\u001b[m\u001b[m\r\n",
      "drwxr-xr-x  2 root      wheel  64 Sep  9 05:48 \u001b[1m\u001b[34mpowerlog\u001b[m\u001b[m\r\n"
     ]
    }
   ],
   "source": [
    "!chmod 700 /tmp/file123.txt;ls -l /tmp/"
   ]
  },
  {
   "cell_type": "markdown",
   "metadata": {},
   "source": [
    "Information on File Permission:  \n",
    "[Link 1](https://tldp.org/LDP/GNU-Linux-Tools-Summary/html/x9543.htm)  \n",
    "Information on Acess Control Lists(ACLs):   \n",
    "[Link 1](https://www.redhat.com/sysadmin/linux-access-control-lists)  \n",
    "[Link 2](http://www.cs.unibo.it/~sacerdot/doc/papers/AccessControlListInLinux.pdf)  "
   ]
  },
  {
   "cell_type": "markdown",
   "metadata": {},
   "source": [
    "The `acl` package must be installed to use ACLs. Linux support ACLs on `ext2, ext3, and ext4` filesystems. \n",
    "\n",
    "Self Assignment:  \n",
    "* setfacl: Modifies a file's ACL.\n",
    "* getfacl: Displays a file's ACL.\n"
   ]
  },
  {
   "cell_type": "markdown",
   "metadata": {},
   "source": [
    "#### 4.8 Links\n",
    "A `link` is a pointer to a file. When we create a file, it will put a pointer in a directory. This pointer associates a filename with a place on the disk. So, when we are specifying a filename in a command then we are indirectly pointing to the place on the disk that holds the information.  While working on group, we need to share information among other users. We can make files accessible easily by creating additional links to the file. By creating a link to the file we can access same file from separate directory hierarchies."
   ]
  },
  {
   "cell_type": "markdown",
   "metadata": {},
   "source": [
    "#### 4.8.1 Types of Links\n",
    "* Hard links\n",
    "* Symbolic (soft) links"
   ]
  },
  {
   "cell_type": "markdown",
   "metadata": {},
   "source": [
    "#### 4.8.1.1 Hard Links\n",
    "Hard links are older and becoming outdated. A hard link to a file appears as another file. If the file appears in the same directory as the linked-to file, the links must have different filenames because two files in the same directory cannot have the same name. \n",
    "\n",
    "**Creating a hard link**  \n",
    "The `ln` (link) utility (without the -s or --symbolic option) is used to create a hard link to an existing file. The syntax is:  \n",
    "`ln existing-file new-link`  \n",
    "The ln utility creates an additional pointer to an existing file, but it does not make another copy of the file. Since there is only one file, the file status information such as access permissions, owner, file modification date will be same for all links; only the filename will be different. "
   ]
  },
  {
   "cell_type": "code",
   "execution_count": 15,
   "metadata": {},
   "outputs": [
    {
     "name": "stdout",
     "output_type": "stream",
     "text": [
      "total 104\r\n",
      "drwx------  3 kcmahesh  wheel     96 Sep  5 03:09 \u001b[1m\u001b[34mcom.apple.launchd.kNBtpms4I4\u001b[m\u001b[m\r\n",
      "-rwxr-xr-x  1 kcmahesh  wheel  41889 Sep 11 05:42 \u001b[1m\u001b[32mdate\u001b[m\u001b[m\r\n",
      "-rwx------  1 kcmahesh  wheel      0 Sep  9 07:09 \u001b[1m\u001b[32mfile123.txt\u001b[m\u001b[m\r\n",
      "drwxr-xr-x  6 kcmahesh  wheel    192 Sep 13 11:05 \u001b[1m\u001b[34mfiles\u001b[m\u001b[m\r\n",
      "drwxr-xr-x  7 kcmahesh  wheel    224 Sep 11 05:36 \u001b[1m\u001b[34mmyproject\u001b[m\u001b[m\r\n",
      "srwxrwxrwx  1 kcmahesh  wheel      0 Sep 13 20:11 \u001b[1m\u001b[31mmysql.sock\u001b[m\u001b[m\r\n",
      "-rw-------  1 kcmahesh  wheel      6 Sep 13 20:11 mysql.sock.lock\r\n",
      "srwxrwxrwx  1 kcmahesh  wheel      0 Sep 13 20:11 \u001b[1m\u001b[31mmysqlx.sock\u001b[m\u001b[m\r\n",
      "-rw-------  1 kcmahesh  wheel      7 Sep 13 20:11 mysqlx.sock.lock\r\n",
      "drwxr-xr-x  2 root      wheel     64 Sep  9 05:48 \u001b[1m\u001b[34mpowerlog\u001b[m\u001b[m\r\n"
     ]
    }
   ],
   "source": [
    "!ls -l /tmp/"
   ]
  },
  {
   "cell_type": "code",
   "execution_count": 23,
   "metadata": {},
   "outputs": [],
   "source": [
    "!echo \"Hello\" > /tmp/myfile.txt\n",
    "!ln /tmp/myfile.txt /tmp/newfile"
   ]
  },
  {
   "cell_type": "code",
   "execution_count": 24,
   "metadata": {},
   "outputs": [
    {
     "name": "stdout",
     "output_type": "stream",
     "text": [
      "total 120\r\n",
      "drwx------  3 kcmahesh  wheel     96 Sep  5 03:09 \u001b[1m\u001b[34mcom.apple.launchd.kNBtpms4I4\u001b[m\u001b[m\r\n",
      "-rwxr-xr-x  1 kcmahesh  wheel  41889 Sep 11 05:42 \u001b[1m\u001b[32mdate\u001b[m\u001b[m\r\n",
      "-rwx------  1 kcmahesh  wheel      0 Sep  9 07:09 \u001b[1m\u001b[32mfile123.txt\u001b[m\u001b[m\r\n",
      "drwxr-xr-x  7 kcmahesh  wheel    224 Sep 14 20:36 \u001b[1m\u001b[34mfiles\u001b[m\u001b[m\r\n",
      "-rw-r--r--  2 kcmahesh  wheel      6 Sep 14 20:52 myfile.txt\r\n",
      "drwxr-xr-x  7 kcmahesh  wheel    224 Sep 11 05:36 \u001b[1m\u001b[34mmyproject\u001b[m\u001b[m\r\n",
      "srwxrwxrwx  1 kcmahesh  wheel      0 Sep 13 20:11 \u001b[1m\u001b[31mmysql.sock\u001b[m\u001b[m\r\n",
      "-rw-------  1 kcmahesh  wheel      6 Sep 13 20:11 mysql.sock.lock\r\n",
      "srwxrwxrwx  1 kcmahesh  wheel      0 Sep 13 20:11 \u001b[1m\u001b[31mmysqlx.sock\u001b[m\u001b[m\r\n",
      "-rw-------  1 kcmahesh  wheel      7 Sep 13 20:11 mysqlx.sock.lock\r\n",
      "-rw-r--r--  2 kcmahesh  wheel      6 Sep 14 20:52 newfile\r\n",
      "drwxr-xr-x  2 root      wheel     64 Sep  9 05:48 \u001b[1m\u001b[34mpowerlog\u001b[m\u001b[m\r\n"
     ]
    }
   ],
   "source": [
    "!ls -l /tmp/"
   ]
  },
  {
   "cell_type": "code",
   "execution_count": 25,
   "metadata": {},
   "outputs": [
    {
     "name": "stdout",
     "output_type": "stream",
     "text": [
      "Hello\r\n"
     ]
    }
   ],
   "source": [
    "!cat /tmp/newfile"
   ]
  },
  {
   "cell_type": "markdown",
   "metadata": {},
   "source": [
    "#### 4.8.1.2 Symbolic Links  \n",
    "Symbolic links is also known as soft links or symlinks. A symbolic link is an indirect pointer to a file (the directory entry contains the pathname of the pointed-to file).\n",
    "\n",
    "To dereference a symbolic link means to follow the link to the target file rather than work with the link itself.  \n",
    "\n",
    "**Hard link vs Soft link**  \n",
    "We cannot create a hard link to a directory but we can create a symbolic link to a directory. It is not possible to create hard links between files in different filesystems. A symbolic link can point to any file, regardless of the location in the file structure but a hard link to a file must be in the same filesystem as the other hard link to the file. The main advantage of symbolic link iis that it can point to a nonexistent file. It is useful when we need a link to a file that is removed and re-created frequently. A hard link keeps pointing to a removed file, which the link keeps alive even after a new file is created. A symbolic link always points to the newly created file and does not interfere when we delete the old file."
   ]
  },
  {
   "cell_type": "markdown",
   "metadata": {},
   "source": [
    "The disadvanatages of symbolic link is that it do not have the same status of file similar to hard links."
   ]
  },
  {
   "cell_type": "markdown",
   "metadata": {},
   "source": [
    "**Creating Symbolic links**  \n",
    "The `ln` utility with the -s (or --symbolic) option is used to creates a symbolic link."
   ]
  },
  {
   "cell_type": "code",
   "execution_count": 30,
   "metadata": {},
   "outputs": [],
   "source": [
    "!ln -s /tmp/files /tmp/mysoftlinks # create symlinks of /tmp/files"
   ]
  },
  {
   "cell_type": "code",
   "execution_count": 31,
   "metadata": {},
   "outputs": [
    {
     "name": "stdout",
     "output_type": "stream",
     "text": [
      "total 120\r\n",
      "drwx------  3 kcmahesh  wheel     96 Sep  5 03:09 \u001b[1m\u001b[34mcom.apple.launchd.kNBtpms4I4\u001b[m\u001b[m\r\n",
      "-rwxr-xr-x  1 kcmahesh  wheel  41889 Sep 11 05:42 \u001b[1m\u001b[32mdate\u001b[m\u001b[m\r\n",
      "-rwx------  1 kcmahesh  wheel      0 Sep  9 07:09 \u001b[1m\u001b[32mfile123.txt\u001b[m\u001b[m\r\n",
      "drwxr-xr-x  8 kcmahesh  wheel    256 Sep 14 21:05 \u001b[1m\u001b[34mfiles\u001b[m\u001b[m\r\n",
      "-rw-r--r--  2 kcmahesh  wheel      6 Sep 14 20:52 myfile.txt\r\n",
      "drwxr-xr-x  7 kcmahesh  wheel    224 Sep 11 05:36 \u001b[1m\u001b[34mmyproject\u001b[m\u001b[m\r\n",
      "lrwxr-xr-x  1 kcmahesh  wheel     10 Sep 14 21:07 \u001b[1m\u001b[35mmysoftlinks\u001b[m\u001b[m -> /tmp/files\r\n",
      "srwxrwxrwx  1 kcmahesh  wheel      0 Sep 13 20:11 \u001b[1m\u001b[31mmysql.sock\u001b[m\u001b[m\r\n",
      "-rw-------  1 kcmahesh  wheel      6 Sep 13 20:11 mysql.sock.lock\r\n",
      "srwxrwxrwx  1 kcmahesh  wheel      0 Sep 13 20:11 \u001b[1m\u001b[31mmysqlx.sock\u001b[m\u001b[m\r\n",
      "-rw-------  1 kcmahesh  wheel      7 Sep 13 20:11 mysqlx.sock.lock\r\n",
      "-rw-r--r--  2 kcmahesh  wheel      6 Sep 14 20:52 newfile\r\n",
      "drwxr-xr-x  2 root      wheel     64 Sep  9 05:48 \u001b[1m\u001b[34mpowerlog\u001b[m\u001b[m\r\n"
     ]
    }
   ],
   "source": [
    "!ls -l /tmp/"
   ]
  },
  {
   "cell_type": "markdown",
   "metadata": {},
   "source": [
    "The `l` in the mysoftlinks indicates the link. The size of symbolic link is the number of characters in the target pathname.\n",
    "\n",
    "The `rm` is used to remove a link."
   ]
  },
  {
   "cell_type": "code",
   "execution_count": 33,
   "metadata": {},
   "outputs": [
    {
     "name": "stdout",
     "output_type": "stream",
     "text": [
      "total 120\r\n",
      "drwx------  3 kcmahesh  wheel     96 Sep  5 03:09 \u001b[1m\u001b[34mcom.apple.launchd.kNBtpms4I4\u001b[m\u001b[m\r\n",
      "-rwxr-xr-x  1 kcmahesh  wheel  41889 Sep 11 05:42 \u001b[1m\u001b[32mdate\u001b[m\u001b[m\r\n",
      "-rwx------  1 kcmahesh  wheel      0 Sep  9 07:09 \u001b[1m\u001b[32mfile123.txt\u001b[m\u001b[m\r\n",
      "drwxr-xr-x  8 kcmahesh  wheel    256 Sep 14 21:05 \u001b[1m\u001b[34mfiles\u001b[m\u001b[m\r\n",
      "-rw-r--r--  2 kcmahesh  wheel      6 Sep 14 20:52 myfile.txt\r\n",
      "drwxr-xr-x  7 kcmahesh  wheel    224 Sep 11 05:36 \u001b[1m\u001b[34mmyproject\u001b[m\u001b[m\r\n",
      "srwxrwxrwx  1 kcmahesh  wheel      0 Sep 13 20:11 \u001b[1m\u001b[31mmysql.sock\u001b[m\u001b[m\r\n",
      "-rw-------  1 kcmahesh  wheel      6 Sep 13 20:11 mysql.sock.lock\r\n",
      "srwxrwxrwx  1 kcmahesh  wheel      0 Sep 13 20:11 \u001b[1m\u001b[31mmysqlx.sock\u001b[m\u001b[m\r\n",
      "-rw-------  1 kcmahesh  wheel      7 Sep 13 20:11 mysqlx.sock.lock\r\n",
      "-rw-r--r--  2 kcmahesh  wheel      6 Sep 14 20:52 newfile\r\n",
      "drwxr-xr-x  2 root      wheel     64 Sep  9 05:48 \u001b[1m\u001b[34mpowerlog\u001b[m\u001b[m\r\n"
     ]
    }
   ],
   "source": [
    "!rm /tmp/mysoftlinks\n",
    "!ls -l /tmp/"
   ]
  }
 ],
 "metadata": {
  "kernelspec": {
   "display_name": "Python 3",
   "language": "python",
   "name": "python3"
  },
  "language_info": {
   "codemirror_mode": {
    "name": "ipython",
    "version": 3
   },
   "file_extension": ".py",
   "mimetype": "text/x-python",
   "name": "python",
   "nbconvert_exporter": "python",
   "pygments_lexer": "ipython3",
   "version": "3.7.3"
  }
 },
 "nbformat": 4,
 "nbformat_minor": 2
}
