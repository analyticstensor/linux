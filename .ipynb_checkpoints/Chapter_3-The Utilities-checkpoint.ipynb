{
 "cells": [
  {
   "cell_type": "markdown",
   "metadata": {},
   "source": [
    "# Chapter 3: The Utilities"
   ]
  },
  {
   "cell_type": "markdown",
   "metadata": {},
   "source": [
    "[**3.1 ls**](#3.1-ls)   \n",
    "[**3.2 cat**](#3.2-cat)   \n",
    "[**3.3 rm**](#3.3-rm)   \n",
    "[**3.4 less and more**](#3.4-less-and-more)   \n",
    "[**3.5 hostname**](#3.5-hostname)   \n",
    "[**3.6 cp**](#3.6-cp)  \n",
    "[**3.7 mv**](#3.7-mv)  \n",
    "[**3.8 lpr**](#3.8-lpr)  \n",
    "[**3.9 grep**](#3.9-grep)  \n",
    "[**3.10 head**](#3.10-head)   \n",
    "[**3.11 tail**](#3.11-tail)   \n",
    "[**3.12 sort**](#3.12-sort)   \n",
    "[**3.13 uniq**](#3.13-uniq)   \n",
    "[**3.14 diff**](#3.14-diff)   \n",
    "[**3.15 find**](#3.15-find)  \n",
    "[**3.16 file**](#3.16-file)  \n",
    "[**3.17 wc**](#3.17-wc)  \n",
    "[**3.18 echo**](#3.18-echo)  \n",
    "[**3.19 date**](#3.19-date)  \n",
    "[**3.20 script**](#3.20-script)  \n",
    "[**Pipeline |**](#Pipeline-|)  "
   ]
  },
  {
   "cell_type": "markdown",
   "metadata": {},
   "source": [
    "#### 3.1 ls\n",
    "`ls` (list) utility is used to display a list of the names of files and folders."
   ]
  },
  {
   "cell_type": "code",
   "execution_count": 1,
   "metadata": {},
   "outputs": [
    {
     "name": "stdout",
     "output_type": "stream",
     "text": [
      "Chapter_1-Introduction to Linux.ipynb  Linux_OS.png\r\n",
      "Chapter_2-Linux Operating System.ipynb mac_vi_editor.txt\r\n",
      "Chapter_3-The Utilities.ipynb\r\n"
     ]
    }
   ],
   "source": [
    "!ls"
   ]
  },
  {
   "cell_type": "markdown",
   "metadata": {},
   "source": [
    "#### 3.2 cat\n",
    "`cat` (concatenate) utility is used to display the contents of a text file. The `cat` command is followed by the name of the file to be displayed."
   ]
  },
  {
   "cell_type": "markdown",
   "metadata": {},
   "source": [
    "#### 3.3 rm\n",
    "`rm` (remove) utility is used to delete a file. The `-i` option can be used with `rm` which prompt before removing the file. Type `y` or `n` after the prompt."
   ]
  },
  {
   "cell_type": "markdown",
   "metadata": {},
   "source": [
    "#### 3.4 less and more\n",
    "`less` utility is used to display a text file one screen at a time. Press SPACE bar to display the next screen of text. `more` is also similar to less. When the file is at the end, less dispays an END message and waits `q` before returning to the shell whereas more returns directly to the shell. We can press `h` to display help screen."
   ]
  },
  {
   "cell_type": "markdown",
   "metadata": {},
   "source": [
    "#### 3.5 hostname\n",
    "`hostname` utility is used to display the name of the system we are working on. It provides the name of machine which we are logged in."
   ]
  },
  {
   "cell_type": "markdown",
   "metadata": {},
   "source": [
    "#### 3.6 cp\n",
    "`cp` (copy) utility is used to make a copy of a file. The syntax of `cp` is:   \n",
    "`cp source-file destination-file`  \n",
    "The source-file is the name of the file to be copied. The destination-file is the name of new file that copies from source-file.\n",
    "\n",
    "Note: If the destination-file exists before using a cp command then cp overwrites it. It will overwrite the existing destination-file without warning so we can use `-i` option to prompt be overwritting a file.\n",
    "\n",
    "We'll discuss `scp` and `ftp` later which is used to copy a file from one system to another system."
   ]
  },
  {
   "cell_type": "markdown",
   "metadata": {},
   "source": [
    "#### 3.7 mv\n",
    "`mv` (move) utility is used to rename a file without making a copy of it. The syntax of mv is:  \n",
    "`mv existing-filename new-filename`   \n",
    "The above command change the file name existing-filename to new filename new-filename. Similar to `cp` the mv also overwrite the file content if there is an same existing filename."
   ]
  },
  {
   "cell_type": "markdown",
   "metadata": {},
   "source": [
    "#### 3.8 lpr\n",
    "`lpr` (line printer) utility is used to put one or more files in a printer queue for printing.  We can use `-P` option to instruct lpr to place the file in the queue for a specific printer. `lpstat -p` is used to display the list of printers. `lpstat -o` or `lpq` can be used to see the jobs in the print queue. `lprm` is used to remove the job from the print queue and stop it from printing. We need to provide the job number which can be found by executing `lpq` command."
   ]
  },
  {
   "cell_type": "code",
   "execution_count": 2,
   "metadata": {},
   "outputs": [
    {
     "name": "stdout",
     "output_type": "stream",
     "text": [
      "lpq: Error - no default destination available.\r\n"
     ]
    }
   ],
   "source": [
    "!lpq"
   ]
  },
  {
   "cell_type": "markdown",
   "metadata": {},
   "source": [
    "#### 3.9 grep\n",
    "`grep` utility is used to search through one or more files to see whether it contains a specified string of characters. It display the each line that contains the string. `grep` was originally named from UNIX editor, where g stands for global, re for regular expression and p for print.  \n",
    "For example, `grep 'moon' myfile.txt` searches through the myfile.txt for the lines that contains the string moon and displays the single line that meets the criterion. The `-w` (words) option causes grep to match only the whole words. Otherwise it will display the text that matches with bluemoon, newmoon, moonlight etc. "
   ]
  },
  {
   "cell_type": "markdown",
   "metadata": {},
   "source": [
    "#### 3.10 head\n",
    "`head` utility is used to display the first ten lines of a file. We can pass the `-n` (number of line) option to display total number of line to display as oppose to first 10 lines. The head utility can also display parts of a file based on a count of blocks or characters rather than lines."
   ]
  },
  {
   "cell_type": "markdown",
   "metadata": {},
   "source": [
    "#### 3.11 tail\n",
    "`tail` utility is used to display the last ten line of a file. The `-n` option can be used to display the specified number of line from the file similar to head above.  We can monitor the latest line as they are added to the end in the log file by using `-f` option. To stop press `CONTROL+C`."
   ]
  },
  {
   "cell_type": "markdown",
   "metadata": {},
   "source": [
    "#### 3.12 sort\n",
    "`sort` utility is used to display the contents of the file in order by lines. It does not change the original file. It dispaly the file in alphabetical order. It is useful for putting lists in order. The `-u` option is used to generate a sorted list without duplicate content of the line. The `-n` option sort the content of the file based on numerical order."
   ]
  },
  {
   "cell_type": "markdown",
   "metadata": {},
   "source": [
    "#### 3.13 uniq\n",
    "`uniq` (unique) utility is used to display file skipping adjacent duplicate lines. It does not change the original file."
   ]
  },
  {
   "cell_type": "code",
   "execution_count": 3,
   "metadata": {},
   "outputs": [
    {
     "name": "stdout",
     "output_type": "stream",
     "text": [
      "   1 1\r\n",
      "   1 100\r\n",
      "   1 2\r\n",
      "   1 3\r\n",
      "   1 4\r\n",
      "   1 5\r\n",
      "   1 6\r\n",
      "   1 8\r\n",
      "   1 All process completed.\r\n"
     ]
    }
   ],
   "source": [
    "!sort /tmp/process2.txt | uniq -c"
   ]
  },
  {
   "cell_type": "markdown",
   "metadata": {},
   "source": [
    "#### 3.14 diff\n",
    "`diff` (difference) utility is used to compare two files and displays a list of the difference between them. It does not change the content of the file. It is used when we want to compare two version of the file or source code of any program. Admins will also use `diff` utility to patch the program or operating system."
   ]
  },
  {
   "cell_type": "code",
   "execution_count": 4,
   "metadata": {},
   "outputs": [
    {
     "name": "stdout",
     "output_type": "stream",
     "text": [
      "1\r\n",
      "2\r\n",
      "3\r\n",
      "4\r\n",
      "5\r\n",
      "End of process1.\r\n",
      "1\r\n",
      "3\r\n",
      "4\r\n",
      "5\r\n",
      "2\r\n",
      "6\r\n",
      "8\r\n",
      "100\r\n",
      "All process completed.\r\n"
     ]
    }
   ],
   "source": [
    "# Create two empty file in tmp directory.\n",
    "# Creates two process file and display its contents.\n",
    "!echo \"1\\n2\\n3\\n4\\n5\\nEnd of process1.\" > /tmp/process1.txt\n",
    "!echo \"1\\n3\\n4\\n5\\n2\\n6\\n8\\n100\\nAll process completed.\" > /tmp/process2.txt\n",
    "!cat /tmp/process1.txt /tmp/process2.txt"
   ]
  },
  {
   "cell_type": "code",
   "execution_count": 5,
   "metadata": {},
   "outputs": [
    {
     "name": "stdout",
     "output_type": "stream",
     "text": [
      "2d1\r\n",
      "< 2\r\n",
      "6c5,9\r\n",
      "< End of process1.\r\n",
      "---\r\n",
      "> 2\r\n",
      "> 6\r\n",
      "> 8\r\n",
      "> 100\r\n",
      "> All process completed.\r\n"
     ]
    }
   ],
   "source": [
    "!diff /tmp/process1.txt /tmp/process2.txt"
   ]
  },
  {
   "cell_type": "markdown",
   "metadata": {},
   "source": [
    "Self Reading: [To understand the diff command in detail.](https://linuxize.com/post/diff-command-in-linux/)"
   ]
  },
  {
   "cell_type": "markdown",
   "metadata": {},
   "source": [
    "The `-u` (unified output format) option performs:  \n",
    "* first displays two lines indicating which of the files we are comparing will be denoted by a plus sign (+) and the other file by a minus sign (-). \n",
    "\n",
    "Let's check the example below:"
   ]
  },
  {
   "cell_type": "code",
   "execution_count": 6,
   "metadata": {},
   "outputs": [
    {
     "name": "stdout",
     "output_type": "stream",
     "text": [
      "--- /tmp/process1.txt\t2020-09-01 19:16:21.000000000 +0545\r\n",
      "+++ /tmp/process2.txt\t2020-09-01 19:16:21.000000000 +0545\r\n",
      "@@ -1,6 +1,9 @@\r\n",
      " 1\r\n",
      "-2\r\n",
      " 3\r\n",
      " 4\r\n",
      " 5\r\n",
      "-End of process1.\r\n",
      "+2\r\n",
      "+6\r\n",
      "+8\r\n",
      "+100\r\n",
      "+All process completed.\r\n"
     ]
    }
   ],
   "source": [
    "!diff -u /tmp/process1.txt /tmp/process2.txt"
   ]
  },
  {
   "cell_type": "markdown",
   "metadata": {},
   "source": [
    "In the above example, the minus sign indicates the process1.txt and plus sign indicates the process2.txt. The **diff -u** command breaks long, multiline text into hunks. Each hunk is preceded by a line starting and ending with two at signs (@@). Hunk indicates the starting line number and the number of lines from the each file for the hunk.  \n",
    "\n",
    "In the above example:\n",
    "* The hunk covers the section of the process1.txt file (indicated by a minus sign) from the first line through the sixth line. i.e -1,6. \n",
    "* The +1,9 indicates the hunk covers process2.txt from the the first line through the ninth line. \n",
    "\n",
    "After the header lines, `diff -u` displays each line of text with a leading `minus` sign, a leading `plus` sign or a `SPACE`. \n",
    "* Leading minus sign: It indicates that the given line occurs only in the file denoted by the minus sign (i.e. process1.txt).\n",
    "* Leading plus sign: It indicates that the given line occurs only in the file denoted by the plus sign  (i.e. process2.txt).\n",
    "* SPACE: A line that begins with a SPACE (neither a plus sing nor a minus sign) occurs in both files in the same location."
   ]
  },
  {
   "cell_type": "markdown",
   "metadata": {},
   "source": [
    "Let's interpret the example:"
   ]
  },
  {
   "cell_type": "code",
   "execution_count": 7,
   "metadata": {},
   "outputs": [
    {
     "name": "stdout",
     "output_type": "stream",
     "text": [
      "--- /tmp/process1.txt\t2020-09-01 19:16:21.000000000 +0545\r\n",
      "+++ /tmp/process2.txt\t2020-09-01 19:16:21.000000000 +0545\r\n",
      "@@ -1,6 +1,9 @@\r\n",
      " 1\r\n",
      "-2\r\n",
      " 3\r\n",
      " 4\r\n",
      " 5\r\n",
      "-End of process1.\r\n",
      "+2\r\n",
      "+6\r\n",
      "+8\r\n",
      "+100\r\n",
      "+All process completed.\r\n"
     ]
    }
   ],
   "source": [
    "!diff -u /tmp/process1.txt /tmp/process2.txt"
   ]
  },
  {
   "cell_type": "markdown",
   "metadata": {},
   "source": [
    "1. Line 1: /tmp/process1.txt is represented by ---.\n",
    "2. Line 2: /tmp/process2.txt is represented by +++.\n",
    "3. Line 3: Hunk representing line 1,6 of the file indicated by -; line representing 1,9 of the file indicated by +.\n",
    "4. Line 4: No +or- sign so the value `1` occurs in both file.\n",
    "5. Line 5: -2 indicates it is present in process1.txt\n",
    "6. Line 6 to 8: Those value `3,4,5` are present in both file.\n",
    "7. Line 9: The value '-End of process1.' is only present in process1.txt\n",
    "8. Line 10 to 14: Those values are present only in process2.txt file."
   ]
  },
  {
   "cell_type": "markdown",
   "metadata": {},
   "source": [
    "#### 3.15 find\n",
    "[Self Assignment](https://alvinalexander.com/unix/edu/examples/find.shtml)"
   ]
  },
  {
   "cell_type": "markdown",
   "metadata": {},
   "source": [
    "#### 3.16 file\n",
    "`file` utility is used to find the contents of any file on Linux system without opening or reading the file. Let's check some examples."
   ]
  },
  {
   "cell_type": "code",
   "execution_count": 8,
   "metadata": {},
   "outputs": [
    {
     "name": "stdout",
     "output_type": "stream",
     "text": [
      "/tmp/process1.txt: ASCII text\r\n"
     ]
    }
   ],
   "source": [
    "!file /tmp/process1.txt"
   ]
  },
  {
   "cell_type": "code",
   "execution_count": 9,
   "metadata": {},
   "outputs": [],
   "source": [
    "!touch /tmp/hello.txt"
   ]
  },
  {
   "cell_type": "code",
   "execution_count": 10,
   "metadata": {},
   "outputs": [
    {
     "name": "stdout",
     "output_type": "stream",
     "text": [
      "/tmp/hello.txt: ASCII text\r\n"
     ]
    }
   ],
   "source": [
    "!file /tmp/hello.txt"
   ]
  },
  {
   "cell_type": "markdown",
   "metadata": {},
   "source": [
    "Try to check the different file such as image, compress, pdf, word etc."
   ]
  },
  {
   "cell_type": "code",
   "execution_count": 11,
   "metadata": {},
   "outputs": [
    {
     "name": "stdout",
     "output_type": "stream",
     "text": [
      "/tmp/process1.txt: ASCII text\r\n",
      "/tmp/hello.txt:    ASCII text\r\n"
     ]
    }
   ],
   "source": [
    "!file /tmp/process1.txt /tmp/hello.txt # check two or more files."
   ]
  },
  {
   "cell_type": "markdown",
   "metadata": {},
   "source": [
    "#### 3.17 wc\n",
    "`wc`(word count) utility is used displays the number of lines, words, and bytes contained in each input file, or standard input (if no file is specified) to the standard output. `-w`(words) option is used to display the number of words. `-l`(line) option is used to count total numbers of line for a given file. `c` option is used to display the number of bytes in each input file."
   ]
  },
  {
   "cell_type": "code",
   "execution_count": 12,
   "metadata": {},
   "outputs": [
    {
     "name": "stdout",
     "output_type": "stream",
     "text": [
      "1\r\n",
      "2\r\n",
      "3\r\n",
      "4\r\n",
      "5\r\n",
      "End of process1.\r\n"
     ]
    }
   ],
   "source": [
    "!cat /tmp/process1.txt"
   ]
  },
  {
   "cell_type": "code",
   "execution_count": 13,
   "metadata": {},
   "outputs": [
    {
     "name": "stdout",
     "output_type": "stream",
     "text": [
      "       6 /tmp/process1.txt\r\n",
      "       8 /tmp/process1.txt\r\n",
      "      27 /tmp/process1.txt\r\n"
     ]
    }
   ],
   "source": [
    "!wc -l /tmp/process1.txt ; wc -w /tmp/process1.txt; wc -c /tmp/process1.txt"
   ]
  },
  {
   "cell_type": "markdown",
   "metadata": {},
   "source": [
    "#### 3.18 echo\n",
    "`echo` utility copies the characters we type on the command line to the screen."
   ]
  },
  {
   "cell_type": "code",
   "execution_count": 14,
   "metadata": {},
   "outputs": [
    {
     "name": "stdout",
     "output_type": "stream",
     "text": [
      "The temperature is pleasant today.\r\n"
     ]
    }
   ],
   "source": [
    "!echo \"The temperature is pleasant today.\""
   ]
  },
  {
   "cell_type": "code",
   "execution_count": 15,
   "metadata": {},
   "outputs": [
    {
     "name": "stdout",
     "output_type": "stream",
     "text": [
      "Tue Sep  1 19:16:26 +0545 2020\r\n"
     ]
    }
   ],
   "source": [
    "!date"
   ]
  },
  {
   "cell_type": "code",
   "execution_count": 16,
   "metadata": {},
   "outputs": [
    {
     "name": "stdout",
     "output_type": "stream",
     "text": [
      "Hello, Today is Tue Sep  1 19:16:26 +0545 2020.\r\n"
     ]
    }
   ],
   "source": [
    "!echo \"Hello, Today is `date`.\""
   ]
  },
  {
   "cell_type": "code",
   "execution_count": 17,
   "metadata": {},
   "outputs": [
    {
     "name": "stdout",
     "output_type": "stream",
     "text": [
      "This is a test.\r\n"
     ]
    }
   ],
   "source": [
    "!echo This is a test."
   ]
  },
  {
   "cell_type": "code",
   "execution_count": 18,
   "metadata": {},
   "outputs": [
    {
     "name": "stdout",
     "output_type": "stream",
     "text": [
      "-e This is a line 1.\r\n",
      "This is line 2.  \tThis is followed by 1 tab.\"Escape double quote.\r\n"
     ]
    }
   ],
   "source": [
    "!echo -e \"This is a line 1.\\nThis is line 2. \\\n",
    "\\tThis is followed by 1 tab.\\\"Escape double quote.\""
   ]
  },
  {
   "cell_type": "markdown",
   "metadata": {},
   "source": [
    "#### 3.19 date\n",
    "`date` utility is used to displays the current date and time. "
   ]
  },
  {
   "cell_type": "code",
   "execution_count": 19,
   "metadata": {},
   "outputs": [
    {
     "name": "stdout",
     "output_type": "stream",
     "text": [
      "Tue Sep  1 19:16:27 +0545 2020\r\n"
     ]
    }
   ],
   "source": [
    "!date"
   ]
  },
  {
   "cell_type": "markdown",
   "metadata": {},
   "source": [
    "[Formatting date and time]()"
   ]
  },
  {
   "cell_type": "code",
   "execution_count": 20,
   "metadata": {},
   "outputs": [
    {
     "name": "stdout",
     "output_type": "stream",
     "text": [
      "2020-09-01 19:09:1598967088\r\n"
     ]
    }
   ],
   "source": [
    "!date +\"%Y-%m-%d %H:%m:%s\""
   ]
  },
  {
   "cell_type": "code",
   "execution_count": 21,
   "metadata": {},
   "outputs": [
    {
     "name": "stdout",
     "output_type": "stream",
     "text": [
      "September 01 Tuesday,2020\r\n"
     ]
    }
   ],
   "source": [
    "!date +\"%B %d %A,%Y\""
   ]
  },
  {
   "cell_type": "markdown",
   "metadata": {},
   "source": [
    "#### 3.20 script\n",
    "`script` utility is used to records all or part of a login session, including both the input we typed and the system's response. By default script captures the session in a file name **typescript**. To use different filename we provide filename followed by script. `-a` option is used to append to a file otherwise it will overwrites an existing file. The exit command is used to terminate a script session."
   ]
  },
  {
   "cell_type": "markdown",
   "metadata": {},
   "source": [
    "Table 3-1: File Utilities\n",
    "\n",
    "|Utility|Function|  \n",
    "|------|------|  \n",
    "| cp | Copies one or more files |  \n",
    "| diff | Displays the differences between two files |  \n",
    "| file | Displays information about the contents of a file |  \n",
    "| grep | Searches file(s) for a string |  \n",
    "| head | Displays the lines at the beginning of a file |  \n",
    "| lpq | Displays a list of jobs in the print queue |  \n",
    "| lprm | Removes a jobfrom the print queue |  \n",
    "| mv | Renames a file or moves files(s) to another directory |  \n",
    "| sort | Puts a file in order by lines |  \n",
    "| tail | Displays the lines at the end of a file |  \n",
    "| uniq | Displays the contents of a file, skipping adjacent duplicate lines |  "
   ]
  },
  {
   "cell_type": "markdown",
   "metadata": {},
   "source": [
    "Table 3-2: (De)compression utilities\n",
    "\n",
    "|Utility|Function|  \n",
    "|------|------|  \n",
    "| bunzip2 | Returns a file compressed with bzip2 to its original size and format |  \n",
    "| bzcat | Displays a file compressed with bzip2 | \n",
    "| bzip2 | Compresses a file |  \n",
    "| compress | Compresses a file |  \n",
    "| gunzip | Returns a file compressed with gzip or compress to its original size and format |  \n",
    "| gzip | Compresses a file |  \n",
    "| unzip | Unpacks zip archives, which are compatible with Windows PKZIP |  \n",
    "| zcat |Displays a file compressed with gzip |  \n",
    "| zip | Constructs zip archives, which are compatible with Windows PKZIP |"
   ]
  },
  {
   "cell_type": "markdown",
   "metadata": {},
   "source": [
    "Table 3-3: Archive Utility\n",
    "\n",
    "|Utility|Function|  \n",
    "|------|------|  \n",
    "| tar | Creates or extracts files from an archive file |   "
   ]
  },
  {
   "cell_type": "markdown",
   "metadata": {},
   "source": [
    "Table 3-3: Location  Utility\n",
    "\n",
    "|Utility|Function|  \n",
    "|------|------|  \n",
    "| locate/mlocate | Search for files on the local system |   \n",
    "| whereis | Displays the full pathnames of a utility, source code, or man page |  \n",
    "| which | Displays the full pathname of a command we run | "
   ]
  },
  {
   "cell_type": "markdown",
   "metadata": {},
   "source": [
    "Table 3-3: User and System Information  Utility\n",
    "\n",
    "|Utility|Function|  \n",
    "|------|------|  \n",
    "| finger | Displays detailed information about users, including their full names |   \n",
    "| free | Displays memory usage information |  \n",
    "| hostname | Displays the name of the local system |  \n",
    "| uptime | Displays system load and duration information |  \n",
    "| w | Displays detailed information about users who are logged in on the local system |  \n",
    "| who | Displays information about users who are logged in on the local system |"
   ]
  },
  {
   "cell_type": "markdown",
   "metadata": {},
   "source": [
    "Table 3-4: User communication  Utility\n",
    "\n",
    "|Utility|Function|  \n",
    "|------|------|  \n",
    "| mesg | Permits or denies messages sent by write |   \n",
    "| write | Sends a message to another user who is logged in | "
   ]
  },
  {
   "cell_type": "markdown",
   "metadata": {},
   "source": [
    "Table 3-5: Miscellaneous  Utility\n",
    "\n",
    "|Utility|Function|  \n",
    "|------|------|  \n",
    "| date | Displays the current date and time |   \n",
    "| echo | Copies the arguments to the screen |  "
   ]
  },
  {
   "cell_type": "markdown",
   "metadata": {},
   "source": [
    "#### Pipeline |\n",
    "It is used to communicates between processes. A `pipeline` denoted by pipe symbol (i.e. vertical bar |) takes the output of one utility and sends that output as input to another utility. Pipeline takes standard output of one process and redirects it to be standard input of another process."
   ]
  },
  {
   "cell_type": "code",
   "execution_count": 22,
   "metadata": {},
   "outputs": [
    {
     "name": "stdout",
     "output_type": "stream",
     "text": [
      "1\r\n",
      "3\r\n",
      "4\r\n",
      "5\r\n",
      "2\r\n",
      "6\r\n",
      "8\r\n",
      "100\r\n",
      "All process completed.\r\n"
     ]
    }
   ],
   "source": [
    "!cat /tmp/process2.txt"
   ]
  },
  {
   "cell_type": "code",
   "execution_count": 23,
   "metadata": {},
   "outputs": [
    {
     "name": "stdout",
     "output_type": "stream",
     "text": [
      "6\r\n",
      "8\r\n",
      "All process completed.\r\n"
     ]
    }
   ],
   "source": [
    "!sort /tmp/process2.txt | tail -3 "
   ]
  },
  {
   "cell_type": "markdown",
   "metadata": {},
   "source": [
    "The above example sort the process2.txt and display only last 3 lines. The ouput of sort utility is sent as input of tail utility."
   ]
  },
  {
   "cell_type": "code",
   "execution_count": 24,
   "metadata": {},
   "outputs": [
    {
     "name": "stdout",
     "output_type": "stream",
     "text": [
      "  501 72551     1   0 Sun05AM ??         1:19.66 /opt/anaconda3/bin/python /opt/anaconda3/bin/jupyter-notebook\r\n",
      "  501 87467 78216   0  7:16PM ttys000    0:00.01 /bin/sh -c ps -ef | grep -w 'jupyter'\r\n",
      "  501 87469 87467   0  7:16PM ttys000    0:00.00 grep -w jupyter\r\n"
     ]
    }
   ],
   "source": [
    "!ps -ef | grep -w 'jupyter'"
   ]
  },
  {
   "cell_type": "markdown",
   "metadata": {},
   "source": [
    "The above example prints only the process that has word matching with `jupyter`."
   ]
  }
 ],
 "metadata": {
  "kernelspec": {
   "display_name": "Python 3",
   "language": "python",
   "name": "python3"
  },
  "language_info": {
   "codemirror_mode": {
    "name": "ipython",
    "version": 3
   },
   "file_extension": ".py",
   "mimetype": "text/x-python",
   "name": "python",
   "nbconvert_exporter": "python",
   "pygments_lexer": "ipython3",
   "version": "3.7.3"
  }
 },
 "nbformat": 4,
 "nbformat_minor": 2
}
