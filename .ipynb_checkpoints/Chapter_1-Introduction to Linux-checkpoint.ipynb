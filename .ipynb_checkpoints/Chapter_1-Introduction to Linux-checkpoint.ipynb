{
 "cells": [
  {
   "cell_type": "markdown",
   "metadata": {},
   "source": [
    "# Chapter 1: Introduction to Linux"
   ]
  },
  {
   "cell_type": "markdown",
   "metadata": {},
   "source": [
    "[**1.1 Operating System**](#1.1-Operating-System)   \n",
    "[**1.2 Linux Kernel**](#1.2-Linux-Kernel)   \n",
    "[**1.3 History of Linux:UNIX**](#1.3-History-of-Linux:UNIX)   \n",
    "[**1.4 Overview of Linux**](#1.4-Overview-of-Linux)   \n",
    "[**1.4.1 The Kernel**](#1.4.1-The-Kernel)   \n",
    "[**1.4.2 The Shell**](#1.4.2-The-Shell)  "
   ]
  },
  {
   "cell_type": "markdown",
   "metadata": {},
   "source": [
    "#### 1.1 Operating System\n",
    "An Operating System (OS) is the low-level software which is used to schedule tasks, allocate storage, and handles the interfaces to peripheral hardware such as keyboard, mouse, printers, disk drives etc. An operating system has two main parts:-  \n",
    "* **Kernel**: Kernel allocates machine resources i.e. memory, disk space, and CPU cycles to all other programs that run on the computer.\n",
    "* **System Programs**: System programs include device drivers libraries, utility programs, shells (command interpreters), configuration scripts and files, application programs, servers, and documentation. It is used to perfrom high-level tasks."
   ]
  },
  {
   "cell_type": "markdown",
   "metadata": {},
   "source": [
    "#### 1.2 Linux Kernel\n",
    "The linux kernel was developed by Finnish undergraduate student named Linus Torvalds and the Linux verison 0.01 was released in September 1991. Linux is the combination of Linus and UNIX. The Linux operating system was developed by the co-operation with multiple people around the world. It is an open source operating system."
   ]
  },
  {
   "cell_type": "markdown",
   "metadata": {},
   "source": [
    "#### 1.3 History of Linux:UNIX\n",
    "\n",
    "The UNIX was developed by researchers and it was widely available in 1975. It is mostly popular in universities and college, and later took a path in commercial world. More history can be found on this [link](https://www.levenez.com/unix/).  \n",
    "\n",
    "**Uniqueness of Unix**  \n",
    "* Multitasking\n",
    "* Multiuser\n",
    "* Portability\n",
    "* UNIX programs\n",
    "* Library of application software\n",
    "\n",
    "\n",
    "**Berkeley UNIX (BSD)**  \n",
    "At University of California, Berkeley the Computer Systems Research Group (CSRG) added many changes to UNIX and later created it's own version called Berkeley Software Distribution (BSD) of the UNIX system or Berkeley UNIX. Mac OS X is also inherited from BSD branch."
   ]
  },
  {
   "cell_type": "markdown",
   "metadata": {},
   "source": [
    "#### 1.4 Overview of Linux\n",
    "The Linux operating system has many unique and powerful features. It is a control program for computers which means it also provides graphical interface and enable several other programs concurrently. Figure 1.1 shows a layered view of the Linux Operating System.   \n",
    "![Figure 1.1 layered view of the Linux Operating System](Linux_OS.png)"
   ]
  },
  {
   "cell_type": "markdown",
   "metadata": {},
   "source": [
    "**Linux Distribution**: Linux distribution consists of Linux Kernel, utilities, and application programs. Some of the distribution are Ubuntu, Fedora, openSUSE, Red Hat, Debian, CentOS, Mint, Mageia, and Arch. Since there are many distribution but all of them rely on the Linux kernel, utilities, and applications."
   ]
  },
  {
   "cell_type": "markdown",
   "metadata": {},
   "source": [
    "#### 1.4.1 The Kernel\n",
    "The Linux Kernel is the heart of the Linux operating system which is resposible for allocating the computer's resources and scheduling user jobs. It manages and schedules the jobs. Programs interact with the kernel through `system calls`, which is a special functions with well-known names. We can use single system call to interact with many kids of devices. For e.g. **write()** system call, which works across many interfaces. When write() request is invoked, the kernel interprets the context and passes the request to the appropriate device.  \n",
    "\n",
    "* Linux supports multiple users to concurrently run different set of programs.\n",
    "\n",
    "* Linux is a fully protected mulitasking operating system which allows single user to run more jobs at time. Program can communicate with other but remains fully protected from one another. We can also run jobs in the background.\n",
    "\n",
    "* Linux provides a secure hierarchical filesystem. `Files` are managed in `directories` in treelike structure. Each file is stored under a unique identifier on a storage device i.e. hard disk. This structure helps to organize files by grouping related files in directory. The image below shows linux filesystem structure. Linux has file access permissions which provides security to filesytem. We can limit the user to read, write or execure a file and directory."
   ]
  },
  {
   "cell_type": "markdown",
   "metadata": {},
   "source": [
    "            /\n",
    "    ________  _______   ______\n",
    "    | home |  | tmp |   | usr|\n",
    "    --------  -------   ------\n",
    "        |\n",
    "    _________\n",
    "    | report|\n",
    "    ---------\n",
    "    \n",
    "    \n",
    "Figure 1.2: The Linux filesystem structure."
   ]
  },
  {
   "cell_type": "markdown",
   "metadata": {},
   "source": [
    "#### 1.4.2 The Shell\n",
    "Shell is the command interpreter which acts as an interface between user and the operating system. When we enter a command on the screen, the shell interprets the command and calls the program. There are different types of shells in Linux such as:  \n",
    "* The Bourne Again Shell (bash)\n",
    "* The Debian Alquist Shell (dash)\n",
    "* The TC Shell (tcsh)\n",
    "* The Z Shell (zsh)\n",
    "* The C shell (csh)\n",
    "\n",
    "Users can choose different shells based on their choice.\n",
    "\n",
    "**Shell Scripts**: Shell is also a high-level programming language. Shell is an interpreter and it does not compile programs but interprets programs each time they are loaded from the disk.\n",
    "Shell commands can be organized in a file to execute later which is commonly known as `shell scripts`. With shell scripts we can perform complex operations. The most important feature of the shell is that user can use it as a programming language. Most of the shells support shell functions which also holds in memory by the shell. This helps to minimize operation when we read from disk every time.\n",
    "\n",
    "We can control the jobs by switching and running both in background and foreground.\n",
    "\n",
    "Linux has several hundred of utility programs which is known as `commands`. Let's take a look on some [commands](https://ss64.com/bash/).\n",
    "\n",
    "Linux enables user to establish both pipelines and filters on the command line. `Pipeline` is used to pass the output of one program, as input of another program. `Filter` is used to process a stream of input data to yield a stream of output data by modifying the result. Example of pipeline and filter include, sending the output to the sort utility to tail last twenty line and pipe to other utility such as lpr to send the data to a printer and print the file. So, using one line command we can perfrom two or more utilities together.\n",
    "\n",
    "Most of the tools in UNIX also exists for Linux."
   ]
  }
 ],
 "metadata": {
  "kernelspec": {
   "display_name": "Python 3",
   "language": "python",
   "name": "python3"
  },
  "language_info": {
   "codemirror_mode": {
    "name": "ipython",
    "version": 3
   },
   "file_extension": ".py",
   "mimetype": "text/x-python",
   "name": "python",
   "nbconvert_exporter": "python",
   "pygments_lexer": "ipython3",
   "version": "3.7.3"
  }
 },
 "nbformat": 4,
 "nbformat_minor": 2
}
