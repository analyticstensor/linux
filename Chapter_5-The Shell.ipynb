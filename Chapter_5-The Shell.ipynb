{
 "cells": [
  {
   "cell_type": "markdown",
   "metadata": {},
   "source": [
    "# Chapter 5: The Shell"
   ]
  },
  {
   "cell_type": "markdown",
   "metadata": {},
   "source": [
    "[**5.1 Command**](#5.1-Command)   \n",
    "[**5.2 Standard Input and Standard Output**](#5.2-Standard-Input-and-Standard-Output)  \n",
    "[**5.3 Redirection**](#5.3-Redirection)  \n",
    "[**5.3.1 Redirecting Standard Output**](#5.3.1-Redirecting-Standard-Output)   \n",
    "[**5.3.2 Redirecting Standard Input**](#5.3.2-Redirecting-Standard-Input)   \n",
    "[**5.4 Job**](#5.4-Job)   \n",
    "[**5.5 Types of Shell**](#5.5-Types-of-Shell)   \n",
    "[**5.6 bash shell**](#5.6-bash-shell)  \n",
    "[**5.7 File descriptors**](#5.7-File-descriptors)   \n",
    "[**5.8 Shell Script**](#5.8-Shell-Script)"
   ]
  },
  {
   "cell_type": "markdown",
   "metadata": {},
   "source": [
    "#### 5.1 Command\n",
    "`Command` means both the characters we type on the command line and the program than invokes action.\n",
    "`Command line` is a simple command, a pipeline, or a list.\n",
    "\n",
    "The shell executes a program when we enter a command in response to its prompt. For example, when we enter `cp` command, the shell executes the utility program named `cp`. Similarly shell can execute shell scripts, application programs etc. The syntax of command is  \n",
    "`command [arg1] [arg2] ... [argn]`  \n",
    "\n",
    "An `argument`is a token that command acts on (e.g. a filename, a string of characters, a number). The brackets indicates the optional arguments. All the commands do not require arguments.  \n",
    "\n",
    "An `options` is an argument that modifies the effects of a command. Options are a special type of arguments which are preceded by one or two hyphens(-). These arguments are called options because they are normally optional. We can group multiple single letter options into one argument that starts with a single hyphen. The example below list the file in long format in reverse order based on date using `-ltr` options combined together."
   ]
  },
  {
   "cell_type": "code",
   "execution_count": 1,
   "metadata": {},
   "outputs": [
    {
     "name": "stdout",
     "output_type": "stream",
     "text": [
      "total 64\r\n",
      "drwx------  3 kcmahesh  wheel   96 Sep  5 03:09 \u001b[1m\u001b[34mcom.apple.launchd.kNBtpms4I4\u001b[m\u001b[m\r\n",
      "-rw-------  1 kcmahesh  wheel    6 Sep 13 20:11 mysql.sock.lock\r\n",
      "srwxrwxrwx  1 kcmahesh  wheel    0 Sep 13 20:11 \u001b[1m\u001b[31mmysql.sock\u001b[m\u001b[m\r\n",
      "-rw-------  1 kcmahesh  wheel    7 Sep 13 20:11 mysqlx.sock.lock\r\n",
      "srwxrwxrwx  1 kcmahesh  wheel    0 Sep 13 20:11 \u001b[1m\u001b[31mmysqlx.sock\u001b[m\u001b[m\r\n",
      "-rw-r--r--  2 kcmahesh  wheel    6 Sep 14 20:52 newfile\r\n",
      "-rw-r--r--  2 kcmahesh  wheel    6 Sep 14 20:52 myfile.txt\r\n",
      "-rw-r--r--  1 kcmahesh  wheel   75 Sep 15 05:14 example1.txt\r\n",
      "-rw-r--r--  1 kcmahesh  wheel   75 Sep 15 05:17 example.txt-e\r\n",
      "-rw-r--r--  1 kcmahesh  wheel   69 Sep 15 05:18 example.txt\r\n",
      "-rw-r--r--  1 kcmahesh  wheel    2 Sep 15 05:20 1.txt#foo\r\n",
      "drwxr-xr-x  2 root      wheel   64 Sep 15 08:05 \u001b[1m\u001b[34mpowerlog\u001b[m\u001b[m\r\n",
      "drwxr-xr-x  7 kcmahesh  wheel  224 Sep 15 11:07 \u001b[1m\u001b[34mfiles\u001b[m\u001b[m\r\n",
      "drwxr-xr-x  2 kcmahesh  wheel   64 Sep 15 11:07 \u001b[1m\u001b[34mmyproject\u001b[m\u001b[m\r\n"
     ]
    }
   ],
   "source": [
    "!ls -ltr /tmp/"
   ]
  },
  {
   "cell_type": "markdown",
   "metadata": {},
   "source": [
    "#### 5.2 Standard Input and Standard Output\n",
    "`Standard output` is a place where a program sends information. The information can be sent to a printer, file or the screen. By default, the shell directs standard output from a command to the screen.\n",
    "\n",
    "`Standard input` is place a program gets information from. By default, the shell directs standard input from the keyboard.\n",
    "\n",
    "`Standard error` is place where a program send error messages. By default, the shell directs standard error to the screen.\n",
    "\n",
    "                              \n",
    "            Standard Input\n",
    "                 ||\n",
    "                 ||\n",
    "               Command\n",
    "                 ||\n",
    "                /  \\\n",
    "    Standard Output  Standard Error\n",
    "    \n",
    "Additional to ordinary files, directory files, hard and soft links, the other type of file is `device file`. A device file resides in the file structure in `/dev` directory. It represents a peripheral device such as a terminal, printer, or disk drive. `who` utility display username of the terminal that user is working on. `tty` utility display the name of the device that gives the command from. Reading from the device file represents the terminal we are using reads what we are entering on the board and writing to it displays what we are writting on the screen. Basically this represents the screen as a file."
   ]
  },
  {
   "cell_type": "markdown",
   "metadata": {},
   "source": [
    "#### 5.3 Redirection\n",
    "`Redirection` is the process of making shell to change the standard input and standard ouput of the command. As mentioned earlier, by default standard input comes from the keyboard, and standard output goes to the screen. \n",
    "\n",
    "                    Keyboard/Screen\n",
    "                         |^\n",
    "         Standard input  ||  Standard ouput\n",
    "                         || \n",
    "                         v|\n",
    "                       Command\n",
    "                       \n",
    "Figure 5.1: Default standard input and standard output\n",
    "\n",
    "We can make the shell to redirect standard input or standard output of any command by associating the input or ouput with a command or file other than keyboard or the screen."
   ]
  },
  {
   "cell_type": "markdown",
   "metadata": {},
   "source": [
    "#### 5.3.1 Redirecting Standard Output\n",
    "The redirect output symbol (**`>`**) instructs the shell to redirect the output of a command to the specified file instead of to the screen. \n",
    "\n",
    "                     Keyboard\n",
    "                         ||\n",
    "         Standard input  ||  \n",
    "                         || \n",
    "                         v|   Standard output\n",
    "                       Command -------> File\n",
    "                       \n",
    "Figure 5.2: Redirecting standard output\n",
    "\n",
    "The syntax of command line to redirects output is   \n",
    "`command [arguments] > filename`  \n",
    "The command is any executable program, arguments are optional arguments, and filename is the name of the ordinary file the shell redirects the output to."
   ]
  },
  {
   "cell_type": "code",
   "execution_count": 6,
   "metadata": {},
   "outputs": [],
   "source": [
    "!echo \"This is an example.\" > /tmp/myexample.txt"
   ]
  },
  {
   "cell_type": "code",
   "execution_count": 7,
   "metadata": {},
   "outputs": [
    {
     "name": "stdout",
     "output_type": "stream",
     "text": [
      "This is an example.\r\n"
     ]
    }
   ],
   "source": [
    "!cat /tmp/myexample.txt"
   ]
  },
  {
   "cell_type": "markdown",
   "metadata": {},
   "source": [
    "#### 5.3.2 Redirecting Standard Input\n",
    "The redirect input symbol (**`<`**) instructs the shell to redirect the command's input to come from the specified file instead of from the keyboard. \n",
    "\n",
    "                    Keyboard/Screen\n",
    "                          ^\n",
    "          Standard input  |  \n",
    "                        \\ | \n",
    "                         \\|\n",
    "                         v|\n",
    "                       Command\n",
    "                       \n",
    "Figure 5.3: Redirecting standard input\n",
    "\n",
    "The syntax of command line to redirects input is   \n",
    "`command [arguments] < filename`  "
   ]
  },
  {
   "cell_type": "code",
   "execution_count": 8,
   "metadata": {},
   "outputs": [
    {
     "name": "stdout",
     "output_type": "stream",
     "text": [
      "This is an example.\r\n"
     ]
    }
   ],
   "source": [
    "cat < /tmp/myexample.txt"
   ]
  },
  {
   "cell_type": "markdown",
   "metadata": {},
   "source": [
    "**Appending Standard Output to a File**  \n",
    "The `append output symbol` (**`>>`**) causes the shell to add a new information to the end of the file."
   ]
  },
  {
   "cell_type": "code",
   "execution_count": 9,
   "metadata": {},
   "outputs": [
    {
     "name": "stdout",
     "output_type": "stream",
     "text": [
      "This is an example.\r\n",
      "This is new message.\r\n"
     ]
    }
   ],
   "source": [
    "!echo \"This is new message.\" >> /tmp/myexample.txt\n",
    "!cat /tmp/myexample.txt"
   ]
  },
  {
   "cell_type": "markdown",
   "metadata": {},
   "source": [
    "#### 5.4 Job\n",
    "A `job` is the simple command. We can have only one foreground job on a screen but multiple background jobs. To run a command in the background we need to put an ampersand **`&`** after the end of command.\n",
    "\n",
    "**Running a command in the background**  \n",
    "When we run a command in the `foreground`, the shell waits it to finish before executing other command. When we run a command in `background`, the shell does not wait for the command to finish before running another command.\n",
    "\n",
    "The shell assigns a number to the job in brackets. The job number is followed by the `process identification (PID) number` which is assigned by the operating system.\n",
    "\n",
    "Let's demonstrate the example in terminal.  \n",
    "The command below runs top command in background. \n",
    "\n",
    "`top &` # runs top command in background.  \n",
    "[1] 42369  \n",
    "\n",
    "The number in bracket i.e. **[1]** is the job number and **42369** is the PID number. When the background job completes it will display message as below:  \n",
    "[1]+ Done top"
   ]
  },
  {
   "cell_type": "markdown",
   "metadata": {},
   "source": [
    "**Moving a job from the foreground to the background**  \n",
    "`CONTROL+Z and bg`  \n",
    "* With `CONTROL+Z` we can suspend a foreground job(i.e. stop it from running) . The shell stops the process and disconnects standard input from the keyboard.  \n",
    "* With `bg` command followed by the number, we can put a suspended job in the background and restart it again. If there is only one suspended job then we don't have to specify job number.\n",
    "* With `fg` we can bring background job into the foreground. When there are more job in the background, then type `fg`, or a percent sign (**%**), followed by the number of the job we want to bring to the foreground.\n",
    "\n",
    "To display the job number running in background we can use `jobs` command."
   ]
  },
  {
   "cell_type": "markdown",
   "metadata": {},
   "source": [
    "**Aborting a background job**  \n",
    "The interrupt key (CONTROL+C) do not abort a background process because the keyboard is not attached to the job. To abort we need to use `kill` command followed by the PID number of the job number. To determine the PID we can use `ps` (process status) utility."
   ]
  },
  {
   "cell_type": "code",
   "execution_count": 11,
   "metadata": {},
   "outputs": [
    {
     "name": "stdout",
     "output_type": "stream",
     "text": [
      "43214 ttys001    0:00.01 /bin/sh -c ps | grep mysql\r\n",
      "43216 ttys001    0:00.00 grep mysql\r\n"
     ]
    }
   ],
   "source": [
    "!ps | grep mysql"
   ]
  },
  {
   "cell_type": "code",
   "execution_count": null,
   "metadata": {},
   "outputs": [],
   "source": [
    "!kill 43214"
   ]
  },
  {
   "cell_type": "markdown",
   "metadata": {},
   "source": [
    "**Self Assignment**  \n",
    "[Linux vi and vim editor](http://www.yolinux.com/TUTORIALS/LinuxTutorialAdvanced_vi.html)"
   ]
  },
  {
   "cell_type": "markdown",
   "metadata": {},
   "source": [
    "#### 5.5 Types of Shell\n",
    "* bash shell\n",
    "* sh shell\n",
    "* dash shell\n",
    "* Korn shell\n",
    "\n",
    "We'll focus on the [Bourne Again Shell (bash)](https://www.gnu.org/software/bash/manual/bash.html)."
   ]
  },
  {
   "cell_type": "markdown",
   "metadata": {},
   "source": [
    "#### 5.6 bash shell\n",
    "The Bourne Again Shell is based on the Bourne shell written by Steve Bourne at AT&T's Bell Lab.\n",
    "\n",
    "**Startup Files**  \n",
    "When a shell starts, it runs startup files to initilize itself. The files that shell runs depends on login shell:\n",
    "* interactive shell: It is not login shell. It give the command `bash` to run one of the these shells.\n",
    "* noninteractive shell: It is used to execute a shell script.\n",
    "\n",
    "**Login Shells**  \n",
    "A login shell is the first shell that displays a prompt when we log in on a system from the system console or virtual console, remotely using ssh.\n",
    "\n",
    "We'll discuss about the startup files that are executed by login shells.\n",
    "\n",
    "**/etc/profile**  \n",
    "The shell first executes the commands in **/etc/profile**, that establish systemwide default characteristics for users running bash. In additional to executing the commands it holds, some versions of profile execute the command located within each of the files with `.sh` filename extension in the **/etc/profile.d** directory. This setup allows a user with root privileges to modify the commands `profile` runs without changing the `profile` file itself.\n",
    "\n",
    "Next the shell looks for:\n",
    "* ~/.bash_profile\n",
    "* ~/.bash_login\n",
    "* ~/.profile  \n",
    "We can put the command in one of those above files to override the defaults set in **/etc/profile**. By default, a Linux distribution sets up new accounts with ~/.bash_profile and ~/.bashrc files. The default ~/.bash_profile file calls ~/.bashrc, which calls  **/etc/bashrc**"
   ]
  },
  {
   "cell_type": "markdown",
   "metadata": {},
   "source": [
    "**.bash_logout**  \n",
    "When user log out, bash executes commands in the **~/.bash_logout** file. This file often holds commands that clean up after a session such as removing temporary files.  \n",
    "**.bashrc**  \n",
    "An interactive nonlogin shell executes commands in the **~/.bashrc** file. The default \\~/.bashrc file calls /etc/bashrc.  \n",
    "**~/.bash_history**  \n",
    "This file stores all the recently executed command."
   ]
  },
  {
   "cell_type": "markdown",
   "metadata": {},
   "source": [
    "**Self Assignment**  \n",
    "[Enviroment Variables](https://linuxize.com/post/how-to-set-and-list-environment-variables-in-linux/)"
   ]
  },
  {
   "cell_type": "markdown",
   "metadata": {},
   "source": [
    "**Commands that are symbols**  \n",
    "The Bourne Again Shell uses the symbols such as (,),[,], and $ as a command.  \n",
    "Table 5.1 shows the builtin commands that are symbols."
   ]
  },
  {
   "cell_type": "markdown",
   "metadata": {},
   "source": [
    "Table: Builtin commands that are symbols\n",
    "\n",
    "| Symbol | Command |\n",
    "| ------ | ------- |\n",
    "| ( ) | Subshell |\n",
    "| \\$( ) | Command substitution |\n",
    "| (( )) | Arithmetic evaluation |\n",
    "| \\$(( )) | Arithmetic expansion |\n",
    "| [ ] | The test command |\n",
    "| [[ ]] | Conditional expression |"
   ]
  },
  {
   "cell_type": "markdown",
   "metadata": {},
   "source": [
    "**Redirecting Standard Error**  \n",
    "We can send the output to standard error. By default, the shell directs standard error to the screen."
   ]
  },
  {
   "cell_type": "markdown",
   "metadata": {},
   "source": [
    "#### 5.7 File descriptors\n",
    "A file descriptor is the place where a program sends its output to and gets its input from. When we execute a program, the shell opens three file descriptors for the program shown below:  \n",
    "* 0: standard input\n",
    "* 1: standard output\n",
    "* 2: standard error  \n",
    "\n",
    "\n",
    "* The `>` is shorthand for `1>` which tells the shell to redirect standard output.  \n",
    "* The `<` is short for `0<` which redirects standard input.  \n",
    "* The `2>` redirect standard error."
   ]
  },
  {
   "cell_type": "code",
   "execution_count": 18,
   "metadata": {},
   "outputs": [
    {
     "name": "stdout",
     "output_type": "stream",
     "text": [
      "cat: ok.txt: No such file or directory\r\n"
     ]
    }
   ],
   "source": [
    "!cat ok.txt > /tmp/example.log"
   ]
  },
  {
   "cell_type": "code",
   "execution_count": 21,
   "metadata": {},
   "outputs": [],
   "source": [
    "!cat file1.txt 2> /tmp/exampl1.log"
   ]
  },
  {
   "cell_type": "code",
   "execution_count": 22,
   "metadata": {},
   "outputs": [
    {
     "name": "stdout",
     "output_type": "stream",
     "text": [
      "cat: /tmp/example1.log: No such file or directory\r\n"
     ]
    }
   ],
   "source": [
    "!cat /tmp/example1.log"
   ]
  },
  {
   "cell_type": "markdown",
   "metadata": {},
   "source": [
    "The `&>` token redirects standard output and standard error to a single file."
   ]
  },
  {
   "cell_type": "code",
   "execution_count": 23,
   "metadata": {},
   "outputs": [
    {
     "name": "stdout",
     "output_type": "stream",
     "text": [
      "cat: ok.txt: No such file or directory\r\n"
     ]
    }
   ],
   "source": [
    "!cat ok.txt &> /tmp/example2.log\n",
    "!cat /tmp/example2.log"
   ]
  },
  {
   "cell_type": "markdown",
   "metadata": {},
   "source": [
    "The `1>&2` or `>&2` redirect standard output of a command to standard error."
   ]
  },
  {
   "cell_type": "markdown",
   "metadata": {},
   "source": [
    "#### 5.8 Shell Script  \n",
    "A `shell script` is a file that holds commands which is executed by the shell. The commands in a shell script can be any commands. We can also use `control flow` commands in the shell scripts. The shell interprets and executes the commands in a shell script in sequential order.  \n",
    "To execute the shell script, the user should have execute permission. The shell script without including the leading `./` won't execute the script it will display the error message indicating, *command not found*.  \n",
    "This error message indicates that the shell in not set up to search of executable files in the given directory.  \n",
    "The `./` tells the shell to explicitly look for an executable file in the given directory. We can also setup the **PATH** variable to tell shell to search for the given directory automatically."
   ]
  },
  {
   "cell_type": "markdown",
   "metadata": {},
   "source": [
    "**#!:Specifies a shell**  \n",
    "`#!` also known as hashbang or shebang is a special sequence of characters on the first line of a shell script to tell the operating system which shell should execute the file. The operating system checks the initial characters of a program before executing the script. With `shebang`, the system interprets the character that follow as the absolute pathname of the program that is to execute the script. The pathname name can point to any program not just a shell. The example below indicate the bash should run the script.  \n",
    "`#!/bin/bash`  # bash script  \n",
    "`#!/bin/tcsh`  # tcsh script  \n",
    "`#!/usr/bin/python` # python script  \n",
    "\n",
    "If `#!` doesn't have the executable program name then the shell reports it cannot find the program.\n",
    "\n",
    "If `#!` is omitted then the script runs under bash and might generate error messages."
   ]
  },
  {
   "cell_type": "markdown",
   "metadata": {},
   "source": [
    "**#:Comment**  \n",
    "The hash (#) at the first character in the the script line indicates the comment."
   ]
  },
  {
   "cell_type": "markdown",
   "metadata": {},
   "source": [
    "**; and NEWLINE: Separate the commands**  \n",
    "The NEWLINE character or semicolon (;) are used to separate the commands. i.e.  \n",
    "`date; ls; ps`  \n",
    "\n",
    "**&& and ||: Boolean Control Operators**  \n",
    "The && (AND) and || (OR) are the boolean operators, also known as short-circuiting control operators.\n",
    "\n",
    "&&: It causes the shell to test the exit status of the command preceding it. If the command succeds, bash executes the next command otherwise it skips the next command.\n",
    "\n",
    "For example:  \n",
    "`mkdir myfiles && cp ~/file.txt myfiles`  \n",
    "The command above tells if the mkdir succeeds then copies the ~/file to myfiles directory.\n",
    "\n",
    "||: It causes bash to test the exit status of the first command but has the opposite effect. i.e. the remaining command(s) are executed only if the first command failed.\n",
    "\n",
    "For example:  \n",
    "`mkdir myfiles || echo \"making directory of myfiles failed\" > /tmp/bash_example.log`  \n",
    "The command above tells if the mkdir failed then print the message and redirect the message to bash_example.log file."
   ]
  },
  {
   "cell_type": "markdown",
   "metadata": {},
   "source": [
    "**\\\\:Continues a command**  \n",
    "The backslash (\\\\) character in the middle of command tells to continue the command on the next line. It is used when we have long command line and the cursor reaches to the right side of the screen."
   ]
  },
  {
   "cell_type": "markdown",
   "metadata": {},
   "source": [
    "**Parameters and Variables**  \n",
    "`Shell parameter` is the value that shell script and user can access. There are several types of shell parameters. The parameters are:\n",
    "* User-Created Variables\n",
    "* Keyword Variables\n",
    "* Positional Parameters\n",
    "* Special Parameters\n",
    "\n",
    "Variable name must start with a letter or underscore not with a number. For e.g. a123, var_1, \\_cat_ are valid variable name but 123a, var-1 is not a valid variable."
   ]
  },
  {
   "cell_type": "markdown",
   "metadata": {},
   "source": [
    "**User-created variables**  \n",
    "    Variable created by user are known as user-created variables. We can change the value of user-created variable anytime or we can make them readonly so that it's value cannot be changed. By default, a variable is only available in the shell it was created (i.e. local), such types of variable is known as `shell variable`. We can use export to make a variable name available in shells spawned from the shell it was created (i.e. global), such types of variable is known as `environment variable`.\n",
    "   \n",
    "The syntax to declare and initialize:  \n",
    "VARIABLE_NAME=value  \n",
    "There should not be whitespace on either side of the equal sign (=)."
   ]
  },
  {
   "cell_type": "code",
   "execution_count": 25,
   "metadata": {},
   "outputs": [
    {
     "name": "stdout",
     "output_type": "stream",
     "text": [
      "\r\n"
     ]
    }
   ],
   "source": [
    "name='John' # valid variable declaration\n",
    "name1 = 'John' # invalid variable declaration\n",
    "echo $name"
   ]
  },
  {
   "cell_type": "markdown",
   "metadata": {},
   "source": [
    "In bash shells we can put variable assignment at the beginning of a command line. This type of assignment places variables in the enviroment of the command shell, which is accessible only from the program the command runs. It is not availabe from the shell running the command. "
   ]
  },
  {
   "cell_type": "markdown",
   "metadata": {},
   "source": [
    "**Keyword variables**  \n",
    "When the shell is started i.e. by logging in, the shell inherits several keywords variables from the enviroment. Some variable are:-  \n",
    "`HOME`: which identifies the home directory.  \n",
    "`PATH`: which determines directories the shell searches and in which order to locate commands we give the shell.  \n",
    "\n",
    "The shell creates and initialize other keyword variables when we start it. We can change the values of most keyword shell variables. It is not necessary to change the values in keyword variables initialized in the **/etc/profile** or **/etc/csh.cshrc** systemwide startup files. "
   ]
  },
  {
   "cell_type": "markdown",
   "metadata": {},
   "source": [
    "**List of Keyword variable**  \n",
    "* HOME: Home directory\n",
    "* PATH: Where the Shell looks for programs\n",
    "* MAIL: Where the mail is kept\n",
    "* PS1: User Prompt (primary)\n",
    "* PS2: User Prompt (secondary)\n",
    "* PS3: Menu Prompt\n",
    "* PS4: Debugging Prompt\n",
    "* IFS: Separates Input Fields (Word splitting)\n",
    "* CDPATH: Broadens the scope of cd"
   ]
  },
  {
   "cell_type": "markdown",
   "metadata": {},
   "source": [
    "**Positional Parameters**  \n",
    "The names of positional and special parameters is not similar to variable names. Most of these parameter have one-character name such as `1, ?, and #` and referenced by preceding the name with a dollar sign i.e. \\\\$, $?, and $#. The value of these parameters have different meaning based on interaction with the shell.\n",
    "\n",
    "When we run command, each argument on the command line becomes the value of a `positional parameter`. Positional parameters enable to access command-line arguments when writing shell scripts.\n",
    "\n",
    "**Self Assignment**  \n",
    "`$0`: Name of the calling program  \n",
    "`shift`: Promotes positional parameters  \n",
    "`$* and $@`: Expand to all positional parameters"
   ]
  },
  {
   "cell_type": "markdown",
   "metadata": {},
   "source": [
    "**Special Parameters**  \n",
    "The frequently needed shell script values, such as the name of the last command executed, the number of positional parameters, and the status of the most recently executed command, are available as `special parameters`. We cannot assign values to special parameters.  \n",
    "\n",
    "\n",
    "\\\\$#: Number of positional parameters  \n",
    "$$: PID Number  \n",
    "$!: PID Number of most recent background process  \n",
    "#?: Exit Status   \n",
    "\\\\$-: Flags of Options that are set  \n",
    "$\\_: Last argument of previously executed command"
   ]
  },
  {
   "cell_type": "markdown",
   "metadata": {},
   "source": [
    "**Parameter substitution**  \n",
    "The shell substitutes the value of a variable when it is preceded by the name of variable with a dollar sign ($). e.g.\n",
    "\n",
    "name='John'  \n",
    "echo name  \n",
    "echo $name  \n",
    "\n",
    "The echo \\\\$name will display the value of the variable name. The leading `$` enables shell to recognize the name of a variable. We can prevent the shell from substuting the value of a variable by quoting the leading $. Double quotation marks do not prevent the substitution but single quotation marks or a backslash (\\\\) do."
   ]
  },
  {
   "cell_type": "code",
   "execution_count": null,
   "metadata": {},
   "outputs": [],
   "source": [
    "echo $name   \n",
    "echo \"$name\"\n",
    "echo '$name'\n",
    "echo \\$name"
   ]
  },
  {
   "cell_type": "markdown",
   "metadata": {},
   "source": [
    "`readonly` builtin makes the value of a variable readonly. e.g.  \n",
    "readonly day='Wednesday'  \n",
    "echo $day   \n",
    "day='Thursday'  \n",
    "unset day  \n",
    "If we use the `readonly` builtin without an argument, it will displays a list of all readonly shell variables. This list will also includes keyword variables which are automatically set as readonly as well as keyword or user-created variables that have been declared as readonly."
   ]
  },
  {
   "cell_type": "markdown",
   "metadata": {},
   "source": [
    "`declare` builtin lists and sets attributes and values for shell variables. The `typeset` builtin perform the same function by has been deprecated. The table 5.2 lists five of the declare attributes.  \n",
    "\n",
    "Table: Variable attributes of declare\n",
    "\n",
    "| Attribute | Meaning |\n",
    "| ------ | ------- |\n",
    "| -a | Declares a variable as an array |\n",
    "| -f | Declares a variable to be a function name |\n",
    "| -i | Declares a varialbe to be of type integer |\n",
    "| -r | Makes a variable readonly, similar to readonly builtin |\n",
    "| -x | Makes a variable an environment variable, similar to export |\n",
    "\n",
    "`declare -r` displays a list of all readonly variables.\n",
    "\n",
    "By default, the values of variables are stored as strings. When we perform arithmetic on string variable, the shell will convert the variable into a number, manipulates it and then converts back to a string. A variable with the integer attribute is stored as an integer. The syntax to assign integer attribute is `declare -i num_1`  \n",
    "We can use declare to display integer variables. i.e. `declare -i`"
   ]
  },
  {
   "cell_type": "markdown",
   "metadata": {},
   "source": [
    "`history` builtin is used to display the history list. The value of the **HISTSIZE** variable determines the number of events preserved in the history during a session. A value of 100 to 1,000 is normal range.  \n",
    "\n",
    "`fc` (fix command) builtin is used to display the history list and to edit and reexecute previous commands. `-l` option will display commands from the history list. To display the specific list we can use `fc -l [first [last]]`. i.e. fc -l 1020 1030  \n",
    "It list the command display from event 1020 through event 1035."
   ]
  },
  {
   "cell_type": "markdown",
   "metadata": {},
   "source": [
    "#### 5.9 Control Structures\n",
    "The `control flow` commands alter the order of execution of commands within a shell script. Control structures includes:  \n",
    "* if...then\n",
    "* for..in\n",
    "* while\n",
    "* until\n",
    "* case  \n",
    "Additionally, `break` and `continue` statements works in conjuction with the control structres to alter the order of execution of a commands within a script."
   ]
  },
  {
   "cell_type": "markdown",
   "metadata": {},
   "source": [
    "**if...then**  \n",
    "The `if..then` control structure has following syntax:  \n",
    "\n",
    "if **test-command**  \n",
    "    then  \n",
    "        **commands**  \n",
    "fi\n",
    "\n",
    "The nonbold words are the keyword."
   ]
  },
  {
   "cell_type": "markdown",
   "metadata": {},
   "source": [
    "The `test` utility evaluates the expression and, if it evaluates to true, returns a zero (true) exit status; otherwise it returns 1 (false). If there is no expression, test also returns 1 (false)."
   ]
  },
  {
   "cell_type": "code",
   "execution_count": null,
   "metadata": {},
   "outputs": [],
   "source": [
    "cat if_example\n",
    "name='John'\n",
    "name_1='John'\n",
    "\n",
    "if test \"$name\" = \"$name_1\"\n",
    "    then\n",
    "       echo \"Same Name\"\n",
    "fi        "
   ]
  },
  {
   "cell_type": "code",
   "execution_count": null,
   "metadata": {},
   "outputs": [],
   "source": [
    "cat check_arguments\n",
    "if test $# -eq 0\n",
    "   then\n",
    "      echo \"You need to pass at least one argument.\"\n",
    "      exit 1\n",
    "fi"
   ]
  },
  {
   "cell_type": "code",
   "execution_count": null,
   "metadata": {},
   "outputs": [],
   "source": [
    "cat check_ordinaryfile\n",
    "if test $# -eq 0\n",
    "   then\n",
    "     echo \"You need to pass at least one argument.\"\n",
    "     exit 1\n",
    "fi"
   ]
  },
  {
   "cell_type": "markdown",
   "metadata": {},
   "source": [
    "Table 5.3: test builtin criteria\n",
    "\n",
    "| Criterion | Test file to see if it |\n",
    "| ------ | ------- |\n",
    "| -d | Exists and is a directory file |\n",
    "| -e | Exists |\n",
    "| -f | Exists and is ordinary file (not a directory) |\n",
    "| -r | Exists and is readable |\n",
    "| -s | Exists and has a size greater than 0 bytes |\n",
    "| -w | Exists and is writable |\n",
    "| -x | Exists and is executable |\n",
    "\n",
    "\n",
    "[File test operators](https://tldp.org/LDP/abs/html/fto.html)"
   ]
  },
  {
   "cell_type": "markdown",
   "metadata": {},
   "source": [
    "`[]` is synonym for test. Instead of using word `test` we can surround the arguments to test with brackets. The brackets must be surrounded by whitespace."
   ]
  },
  {
   "cell_type": "code",
   "execution_count": null,
   "metadata": {},
   "outputs": [],
   "source": [
    "cat check_ordinaryfile1\n",
    "if [ $# -eq 0 ]\n",
    "   then\n",
    "     echo \"You need to pass at least one argument.\"\n",
    "     exit 1\n",
    "fi"
   ]
  },
  {
   "cell_type": "markdown",
   "metadata": {},
   "source": [
    "**if...then...else**  \n",
    "The `if..then..else` control structure has following syntax:  \n",
    "\n",
    "if **test-command**  \n",
    "    then  \n",
    "        **commands**  \n",
    "    else  \n",
    "        **commands**        \n",
    "fi\n",
    "\n",
    "\n",
    "Instead of putting on newline we can separate by using semicolon (;) which ends a command. i.e. \n",
    "\n",
    "if **test-command**; then  \n",
    "        **commands**  \n",
    "    else  \n",
    "        **commands**        \n",
    "fi"
   ]
  },
  {
   "cell_type": "markdown",
   "metadata": {},
   "source": [
    "**if...then...elif**  \n",
    "The `if..then..elif` control structure has following syntax:  \n",
    "\n",
    "if **test-command**  \n",
    "    then  \n",
    "        **commands**  \n",
    "    elif **test-command**  \n",
    "     then  \n",
    "         **commands**  \n",
    "   ...  \n",
    "    else  \n",
    "        **commands**        \n",
    "fi"
   ]
  },
  {
   "cell_type": "markdown",
   "metadata": {},
   "source": [
    "**for..in**  \n",
    "The `for..in` control structure has following syntax:  \n",
    "\n",
    "for `loop-index` in **argument-list**  \n",
    "do  \n",
    "  **commands**  \n",
    "done"
   ]
  },
  {
   "cell_type": "markdown",
   "metadata": {},
   "source": [
    "**for**  \n",
    "The `for` control structure has the following syntax:  \n",
    "\n",
    "for **loop-index**  \n",
    "do  \n",
    "    **commands**  \n",
    "done"
   ]
  },
  {
   "cell_type": "markdown",
   "metadata": {},
   "source": [
    "**while**  \n",
    "The `while` control structure has the following syntax:  \n",
    "\n",
    "while **test-command**  \n",
    "do  \n",
    "   **commands**  \n",
    "done  \n",
    "\n",
    "As long as the **test-command** returns a `true` exit status, the while structure continues to execute the serie of **commands** delimited by the do and done statements."
   ]
  },
  {
   "cell_type": "markdown",
   "metadata": {},
   "source": [
    "Numeric comparision  \n",
    "* -ne: not equal\n",
    "* -eq: equal\n",
    "* -gt: greater than\n",
    "* -ge: greater than or equal to\n",
    "* -lt: less than\n",
    "* -le: less than or equal to  \n",
    "\n",
    "String comparsion  \n",
    "\\=: equal  \n",
    "!=: not equal"
   ]
  },
  {
   "cell_type": "markdown",
   "metadata": {},
   "source": [
    "**until**  \n",
    "The `until` control structure has the following syntax:  \n",
    "\n",
    "until **test-command**  \n",
    "do  \n",
    "   **commands**  \n",
    "done "
   ]
  },
  {
   "cell_type": "markdown",
   "metadata": {},
   "source": [
    "**break** and **continue**  \n",
    "We can interrupt a **for, while**, or **until** loop by using `break` or `continue` statement.\n",
    "\n",
    "The `break` statement transfers control to the statement following the done statement, thereby terminating execution of the loop.  \n",
    "\n",
    "The `continue` command transfers control to the done statment, continuing execution of the loop."
   ]
  },
  {
   "cell_type": "code",
   "execution_count": null,
   "metadata": {},
   "outputs": [],
   "source": [
    "cat break_continue\n",
    "for i in 1 2 3 4 5 6 7 8 9 10\n",
    "do\n",
    " if [ $i -le 5 ]; then\n",
    "    echo \"continue\"\n",
    "    continue\n",
    " fi\n",
    " \n",
    " echo $i\n",
    "\n",
    "if [ $i -ge 7 ]; then\n",
    "   echo \"break\"\n",
    "   break\n",
    "fi\n",
    "done"
   ]
  },
  {
   "cell_type": "markdown",
   "metadata": {},
   "source": [
    "**case**  \n",
    "The `case` control structure has the following syntax:  \n",
    "\n",
    "case **test-string** in  \n",
    "   **pattern-1)**  \n",
    "       **commands-1**  \n",
    "       ;; \n",
    "   **pattern-2)**  \n",
    "       **commands-2**  \n",
    "       ;; \n",
    "   **pattern-3)**  \n",
    "       **commands-3**  \n",
    "       ;; \n",
    "   ...\n",
    "   esac   "
   ]
  },
  {
   "cell_type": "code",
   "execution_count": null,
   "metadata": {},
   "outputs": [],
   "source": [
    "cat case.sh\n",
    "#!/bin/bash\n",
    "\n",
    "grade=$1\n",
    "\n",
    "case $grade in\n",
    "\"A\" | \"a\")\n",
    "echo \"You have entered $grade, which means you are highly qualified\"\n",
    ";;\n",
    "\"B\" | \"b\")\n",
    "echo \"Good\"\n",
    ";;\n",
    "\"C\" | \"c\")\n",
    "echo \"Average\"\n",
    ";;\n",
    "\"D\" | \"d\")\n",
    "echo \"Not Good\"\n",
    ";;\n",
    "*)\n",
    "echo \"Not valid $grade\"\n",
    ";;\n",
    "esac"
   ]
  },
  {
   "cell_type": "markdown",
   "metadata": {},
   "source": [
    "**Expanding Null and Unset Variables**  \n",
    "The expression `${variable_name}` or just `$variable_name` expands to the value of the variable_name variable. If the variable_name is null or not set, bash expands `${variable_name}` to a null string.\n",
    "\n",
    "**:-** Uses a default value  \n",
    "The `:-` modifier uses a default value in place of a null or unset variable while allowing a nonnull variable to represent it set.  \n",
    "`${variable_name:-default}`  \n",
    "The shell interprets `:-` as \"if variable_name is null or unset, expand **default** and use the expanded value in place of `variable_name` otherwise use value of `variable_name`.\"  \n",
    "\n",
    "For example:  \n",
    "`database_name=\"${database_name:-employee_db}\"`  \n",
    "The above statement indicates, if **database_name** is not set the assign it's value to `employee_db` otherwise assign the value of `database_name`.  \n"
   ]
  },
  {
   "cell_type": "code",
   "execution_count": null,
   "metadata": {},
   "outputs": [],
   "source": [
    "echo $database_name\n",
    "database_name=\"${database_name:-employee_db}\"\n",
    "echo $database_name\n",
    "unset database_name\n",
    "database_name=\"new_employee_db\"\n",
    "echo $database_name\n",
    "database_name=\"${database_name:-employee_db}\""
   ]
  },
  {
   "cell_type": "markdown",
   "metadata": {},
   "source": [
    "**:=** Assigns a default value  \n",
    "The `:-` modifier does not change the value of a variable. We can change the value of a null or unset variable to the expanded value of **default** by using the `:=` modifier.  \n",
    "`${variable_name:=default}`  \n",
    "The shell expands the expression `${variable_name:=default}` in the similar ways the was expanded in `${variable_name:-default}` but it also sets the value of **variable_name** to the expanded value of **default**.  \n",
    "\n",
    "For example:  \n",
    "`database_name=\"${database_name:=employee_db}\"`  \n",
    "The above statement indicates, if **database_name** is not set the assign or is null then the shell assigns database_name to  `employee_db`."
   ]
  },
  {
   "cell_type": "code",
   "execution_count": null,
   "metadata": {},
   "outputs": [],
   "source": [
    "unset database_name\n",
    "echo $database_name\n",
    "database_name=\"${database_name:=employee_db}\"\n",
    "echo $database_name\n",
    "unset database_name\n",
    "database_name=\"new_employee_db\"\n",
    "echo $database_name\n",
    "database_name=\"${database_name:=employee_db}\""
   ]
  },
  {
   "cell_type": "markdown",
   "metadata": {},
   "source": [
    "**Array Variables**  \n",
    "The bash shell supports one-dimensional array variables. The syntax below declares and assigns values to an array:  \n",
    "variable_name=(element1 element2 ... elementn)  \n",
    "\n",
    "The code below assign the value to state, to access the element, we use indexing starting with 0 followed by variable_name."
   ]
  },
  {
   "cell_type": "code",
   "execution_count": null,
   "metadata": {},
   "outputs": [],
   "source": [
    "state=(AL CA FL MD VA)\n",
    "echo ${state[0]}\n",
    "echo ${state[1]}\n",
    "echo ${state[5]}"
   ]
  },
  {
   "cell_type": "markdown",
   "metadata": {},
   "source": [
    "* The `[*]` and `[*]` both extract the entire array but work differently when used within double quotation marks.\n",
    "* An `@` produces an array that is a duplicate of the original array.\n",
    "* An `*` produce a single element of an array that holds all the elements of the array separated by the first character in **IFS**(default is space).\n",
    "\n",
    "The code below fills `my_array1` with the elements of the `state` variable using `*`, and `my_array2` fills using an `@`."
   ]
  },
  {
   "cell_type": "code",
   "execution_count": null,
   "metadata": {},
   "outputs": [],
   "source": [
    "cd \n",
    "my_array2=(\"${state[@]}\")           "
   ]
  },
  {
   "cell_type": "markdown",
   "metadata": {},
   "source": [
    "The `${#variable_name[*]}` operator returns the number of elements in an array. If the index of an element of an array is replace with `*`, then it returns the length of the element.  \n",
    "We can replace the value of particular elements of an array by using the syntax below:  \n",
    "variable_name[1]=new_value"
   ]
  },
  {
   "cell_type": "code",
   "execution_count": null,
   "metadata": {},
   "outputs": [],
   "source": [
    "echo ${#state[*]}\n",
    "echo ${#state[1]}\n",
    "state[0]=MA   # assign state[0] to MA.\n",
    "echo ${state[0]}    "
   ]
  },
  {
   "cell_type": "markdown",
   "metadata": {},
   "source": [
    "**Functions**  \n",
    "The shell function is similar to a shell script that stores a series of commands for execution at a later time. The shell stores a function in the RAM instead of in a file on the disk. The shell can access it more quickly than the shell can access a script. The syntax for declaring shell function is shown below:  \n",
    "\n",
    "[function] function_name(){  \n",
    "    commands  \n",
    "}  \n",
    "\n",
    "* The word `function` is optional and are omitted frequently.\n",
    "* The `function_name` is the name of the function. \n",
    "* The commands is the list of the commands the function executes when we call the function.\n",
    "\n",
    "The opening brace `{` can appear on the line following the function name also. We can use `break` statement inside function to terminate its execution. We can declare a function on a single line. To call the function we use `function_name` without parentheses."
   ]
  },
  {
   "cell_type": "code",
   "execution_count": null,
   "metadata": {},
   "outputs": [],
   "source": [
    "cat f1.sh\n",
    "\n",
    "display_date(){\n",
    "    echo \"Today is `date`.\"\n",
    "}\n",
    "\n",
    "dispay_date  # call the function"
   ]
  },
  {
   "cell_type": "markdown",
   "metadata": {},
   "source": [
    "**Variables in Functions**  \n",
    "Functions run in the same environment as the shell that calls thems so variable are implicitly shared by a shell and a function it calls.  \n",
    "\n",
    "In the example below, **user_name** variable is set to **bob** in the interactive shell. The `display_name` function will display the value of user_name (i.e. bob) and set user_name to john. The last echo shows that in the interactive shell, the value of **user_name** has been changed to **john**"
   ]
  },
  {
   "cell_type": "code",
   "execution_count": null,
   "metadata": {},
   "outputs": [],
   "source": [
    "cat variables.sh\n",
    "display_name(){\n",
    "    user_name=john    \n",
    "}"
   ]
  },
  {
   "cell_type": "code",
   "execution_count": null,
   "metadata": {},
   "outputs": [],
   "source": [
    "user_name='bob'\n",
    "display_name  # returns bob\n",
    "echo $user_name # returns john"
   ]
  },
  {
   "cell_type": "markdown",
   "metadata": {},
   "source": [
    "**Local variables**  \n",
    "`local` builtin declares a variable to be local to the function it is defined in. Local variables are useful in function. Sometime the name of variables declare within the function will be conflict with the names of the variables in the programs that call the function. Local variables helps to eliminate these problems."
   ]
  },
  {
   "cell_type": "code",
   "execution_count": null,
   "metadata": {},
   "outputs": [],
   "source": [
    "#!/bin/bash\n",
    "\n",
    "simple_counter(){\n",
    "local start\n",
    "start=$1\n",
    "while [[ $start -gt 0 ]]\n",
    "do\n",
    "echo \"$start\"\n",
    "#start=$[ $start-1 ]\n",
    "((start=start-1))\n",
    "sleep 2\n",
    "done\n",
    "echo \"End.\"\n",
    "}\n",
    "\n",
    "echo \"Check:$start\"\n",
    "echo \"input param:$1\"\n",
    "simple_counter $1"
   ]
  },
  {
   "cell_type": "code",
   "execution_count": null,
   "metadata": {},
   "outputs": [],
   "source": [
    "start=20\n",
    "simple_counter $1"
   ]
  },
  {
   "cell_type": "markdown",
   "metadata": {},
   "source": [
    "**Builtins**  \n",
    "* `type`: Used to display the information about a command. e.g. `type cat echo who if`  \n",
    "* `read`: Used to accepts user input. **-p** (prompt) option causes read to send to standard error the argument that follows it.  \n",
    "e.g. `read name   \n",
    "echo \"Enter your name\"   \n",
    "echo \"Your name is $name`  \n",
    "* `exec`: Executes a command or redirects file descriptors.  \n",
    "* `kill`: Aborts a process. The kill has syntax:    \n",
    "`kill [-signal] PID`  \n",
    "* `eval`: Scans, Evalutates and Executes a command line.  \n",
    "* `getopts`: Parse options"
   ]
  },
  {
   "cell_type": "markdown",
   "metadata": {},
   "source": [
    "Table 5.5 shows the list of bash builtins  \n",
    "\n",
    "| Builtin | Function |\n",
    "| ------ | ------- |\n",
    "| : | Returns 0 or true |\n",
    "| . (dot) | Executes a shell script as part of the current process |\n",
    "| bg | Puts a suspended job in the background |\n",
    "| break | Exits from a looping control structure |\n",
    "| cd | Changes to another working directory |\n",
    "| continue | Starts with the next iteration of a looping control structure |\n",
    "| echo | Displays its arguments |\n",
    "| eval | Scans and evaluates the command line |\n",
    "| exec | Executes a shell script or program in place of the current process |\n",
    "| exit | Exits from the current shell |\n",
    "| fg | Brings a job from the background to the foreground |\n",
    "| getopts | Parses arguments to a shell script |\n",
    "| jobs | Displays a list of background jobs |\n",
    "| kill | Sends a signal to a process or job |\n",
    "| pwd | Displays the name of the working directory |\n",
    "| read | Reads a line from standard input |\n",
    "| readonly | Declares a variable to be readonly | \n",
    "| set | Sets shell flags or positional parameters; with no argument, lists all variables |\n",
    "| shift | Promotes each positional parameter |\n",
    "| test | Compares arguments |\n",
    "| times | Dispalys total times for the current shell and its children |\n",
    "| trap | Traps a signal |\n",
    "| type | Displays how each argument would be interpreted as a command |\n",
    "| unmask | Sets and displays the file-creation mask |\n",
    "| unset | Removes a variable or function |\n",
    "| wait | Waits for a background process to terminate |"
   ]
  },
  {
   "cell_type": "markdown",
   "metadata": {},
   "source": [
    "**Expressions**  \n",
    "An expression includes constants, variables, and operators that the shell can process to return a value."
   ]
  },
  {
   "cell_type": "markdown",
   "metadata": {},
   "source": [
    "**Arithmetic Evaluation**  \n",
    "The shell performs arithmetic assigments in multiple ways.  \n",
    "Method I: We can use `let` builtin. i.e.  \n",
    "`let \"count=count * 5 + incr\"`  \n",
    "\n",
    "In the above example, the variables count and incr hold integer values. While using let statement we do not need to use dollar sign ($) in front of variable names. Double quotation marks must enclose a single argument, or expression, that contains SPACES.\n",
    "\n",
    "**((expression))** is synonym for let \"expression\", which eliminates both quotation marks and dollar signs. i.e.  \n",
    "`((count=count * 5 + incr))`  \n",
    "\n",
    "In let each argument is evaluated as a separate expression. We can assign values to more than one variable on a single line. i.e.  \n",
    "`let \"count = count + 1\" \"age = age * 2 + year\"`  \n",
    "\n",
    "If there are multiple assignments then we must use commas to separate them within a set of double parentheses. i.e.  \n",
    "`((count = count + 1, age = age * 2 + year))`"
   ]
  },
  {
   "cell_type": "markdown",
   "metadata": {},
   "source": [
    "**Logical Expressions/Conditional Expressions**  \n",
    "We can use **((expression))** syntax for logical expression although **[[ expression ]]** are used frequently. The **expression** is a Boolean (logical) expression. We must precede a variable name with a dollar sign within expression.\n",
    "* The `test` builtin uses **-a** for Boolean AND operator, whereas [[expression]] uses **&&**.\n",
    "* The `test` builtin uses **-o** as a Boolean OR operator whereas [[expression ]] uses **||**."
   ]
  },
  {
   "cell_type": "code",
   "execution_count": null,
   "metadata": {},
   "outputs": [],
   "source": [
    "cat logical_operation.sh\n",
    "\n",
    "#!/bin/bash\n",
    "\n",
    "read -p \"Enter your age:\" age\n",
    "if ((30 < age && age < 60));then  # if [[ 30 < $age && $age < 60 ]]\n",
    " echo \"You are able to play the game.\"\n",
    "else\n",
    " echo \"You are not allowed to play the game.\"\n",
    "fi"
   ]
  },
  {
   "cell_type": "markdown",
   "metadata": {},
   "source": [
    "**String Comparisons**  \n",
    "The `test` builtin tests whether strings are equal.  \n",
    "The **[[ expression ]]** syntax adds comparison tests for strings.  \n",
    "The **<** and **>** operators compare strings for order. for e.g. \"a1\" < \"b\".  \n",
    "The **=** operator test for pattern match, not just equality. i.e. \n",
    "\n",
    "**[[ string = pattern ]]** is true if **string** matches pattern. This operator is not symmetrical. i.e. the **pattern** must appear on the right side of the equal sign. For example,  \n",
    "**[[ name = jo* ]]** is true (=0), whereas **[[ jo* = artist ]]** is false (=1)."
   ]
  },
  {
   "cell_type": "code",
   "execution_count": null,
   "metadata": {},
   "outputs": [],
   "source": [
    "name=john\n",
    "[[ $name = jo* ]]\n",
    "echo $? # it will return 0\n",
    "[[ jo* = $name ]]\n",
    "echo $? # it will return 1"
   ]
  },
  {
   "cell_type": "markdown",
   "metadata": {},
   "source": [
    "**Arithmetic Operators**  \n",
    "Arithmetic expansion and arithmetic evaluation in bash uses the same syntax, precedences, and associativity of expressions as C language.\n",
    "\n",
    "Table 5.5 List the arithmetic operators\n",
    "\n",
    "| Type of operator | Function |\n",
    "| ------ | ------- |\n",
    "| **Post** | |\n",
    "| var++ | Postincrement |\n",
    "| var-- | Postdecrement |\n",
    "| **Pre** | |\n",
    "| ++var | Preincrement |\n",
    "| --var | Predecrement |\n",
    "| **Unary** | |\n",
    "| - | Unary minus |\n",
    "| + | Unary plus |\n",
    "| **Negation** | |\n",
    "| ! | Boolean NOT (logical negation) |\n",
    "| ~ | Complement (bitwise negation) |\n",
    "| **Exponentiation** | |\n",
    "| ** | Exponent |\n",
    "| **Multiplication, Division, Remainder** | |\n",
    "| * | Multiplication |\n",
    "| / | Division |\n",
    "| % | Remainder |\n",
    "| **Addition, Subtraction** | |\n",
    "| + | Addition |\n",
    "| - | Subtraction |\n",
    "| **Bitwise Shifts** | |\n",
    "| << | Left bitwise shift |\n",
    "| >> | Right bitwise shift |\n",
    "| **Comparision** | |\n",
    "| <= | Less than or equal | \n",
    "| >= | Greater than or equal |\n",
    "| < | Less than |\n",
    "| > | Greater than |\n",
    "| **Equality, Inequality** | |\n",
    "| == | Equality |\n",
    "| != | Inequality |\n",
    "| **Bitwise** | |\n",
    "| & | Bitwise AND |\n",
    "| ^ | Bitwise XOR (exclusive OR) |\n",
    "| \\| | Bitwise OR |\n",
    "| **Boolean (Logical)** | |\n",
    "| && | Boolean AND |\n",
    "| \\|\\| | Boolean OR |\n",
    "| **Conditional Evaluation** | |\n",
    "| ?: | Ternary operator |\n",
    "| **Assignment** | |\n",
    "| =, *=, \\/=, %=, +=, <<=, >>=, &=, ^=,\\|= | Assignment |\n",
    "| **Comma** | |\n",
    "| , | Comma |"
   ]
  }
 ],
 "metadata": {
  "kernelspec": {
   "display_name": "Python 3",
   "language": "python",
   "name": "python3"
  },
  "language_info": {
   "codemirror_mode": {
    "name": "ipython",
    "version": 3
   },
   "file_extension": ".py",
   "mimetype": "text/x-python",
   "name": "python",
   "nbconvert_exporter": "python",
   "pygments_lexer": "ipython3",
   "version": "3.7.3"
  }
 },
 "nbformat": 4,
 "nbformat_minor": 2
}
